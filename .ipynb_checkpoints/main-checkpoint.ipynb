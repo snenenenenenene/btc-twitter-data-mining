{
 "cells": [
  {
   "cell_type": "markdown",
   "metadata": {},
   "source": [
    "# Bitcoin & Twitter"
   ]
  },
  {
   "cell_type": "code",
   "execution_count": null,
   "metadata": {},
   "outputs": [],
   "source": [
    "from pyspark.sql import SQLContext\n",
    "from pyspark.sql.types import *\n",
    "from datetime import datetime\n",
    "from pyspark import SparkContext\n",
    "from pyspark.sql import SparkSession\n",
    "\n",
    "#BITCOIN\n",
    "\n",
    "# Unix Timestamp - Date represented as epoc value\n",
    "# Date - date and time when the data point was collected\n",
    "# Symbol - Symbol of the currency\n",
    "# Open - Open value of the currency\n",
    "# High - Highest value of currency in the given minute\n",
    "# Low - Lowest value of currency in the given minute\n",
    "# Close - Close value of the currency in the given minute\n",
    "# Volume - Volume of the currency transacted in the given minute.\n",
    "\n",
    "# TWITTER\n",
    "\n",
    "# user_name\tThe name of the user, as they’ve defined it.\n",
    "# user_location\tThe user-defined location for this account’s profile.\n",
    "# user_description\tThe user-defined UTF-8 string describing their account.\n",
    "# user_created\tTime and date, when the account was created.\n",
    "# user_followers\tThe number of followers an account currently has.\n",
    "# user_friends\tThe number of friends a account currently has.\n",
    "# user_favourites\tThe number of favorites a account currently has\n",
    "# user_verified\tWhen true, indicates that the user has a verified account\n",
    "# date\tUTC time and date when the Tweet was created\n",
    "# text\tThe actual UTF-8 text of the Tweet\n",
    "# hashtags\tAll the other hashtags posted in the tweet along with #Bitcoin & #btc\n",
    "# source\tUtility used to post the Tweet, Tweets from the Twitter website have a source value - web\n",
    "# is_retweet\tIndicates whether this Tweet has been Retweeted by the authenticating user.\n",
    "\n",
    "\n",
    "\n",
    "\n",
    "spark.read.option('header', 'true').csv('data/bitcoinvalue.csv').show()\n",
    "# sc = SparkContext(\"local\", \"main\")\n",
    "# bitcoin_data = (sc.textFile('data/bitcoinvalue.csv').filter(lambda l: 'close' not in l))\n",
    "# twitter_data = (sc.textFile('data/tweets.csv').filter(lambda l: 'user_name' not in l))\n",
    "# print(bitcoin_data.collect()[1])\n",
    "# print(twitter_data.collect()[1])"
   ]
  },
  {
   "cell_type": "code",
   "execution_count": null,
   "metadata": {},
   "outputs": [],
   "source": []
  },
  {
   "cell_type": "code",
   "execution_count": null,
   "metadata": {},
   "outputs": [],
   "source": []
  }
 ],
 "metadata": {
  "interpreter": {
   "hash": "916dbcbb3f70747c44a77c7bcd40155683ae19c65e1c03b4aa3499c5328201f1"
  },
  "kernelspec": {
   "display_name": "Python 3 (ipykernel)",
   "language": "python",
   "name": "python3"
  },
  "language_info": {
   "codemirror_mode": {
    "name": "ipython",
    "version": 3
   },
   "file_extension": ".py",
   "mimetype": "text/x-python",
   "name": "python",
   "nbconvert_exporter": "python",
   "pygments_lexer": "ipython3",
   "version": "3.9.5"
  }
 },
 "nbformat": 4,
 "nbformat_minor": 2
}
