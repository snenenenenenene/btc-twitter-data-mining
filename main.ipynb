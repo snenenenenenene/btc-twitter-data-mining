{
 "cells": [
  {
   "cell_type": "markdown",
   "source": [
    "# Bitcoin & Twitter"
   ],
   "metadata": {}
  },
  {
   "cell_type": "code",
   "execution_count": null,
   "source": [
    "from pyspark import SparkContext\n",
    "from pyspark.sql.types import *\n",
    "from pyspark.sql import *\n",
    "from pyspark.sql.functions import col, desc, asc, lit\n",
    "from pyspark.sql import functions as F\n",
    "import matplotlib.dates as mdates\n",
    "\n",
    "\n",
    "sc = SparkContext(\"local\").getOrCreate()\n",
    "sqlContext = SQLContext(sc)\n",
    "spark = SparkSession(sc)"
   ],
   "outputs": [],
   "metadata": {}
  },
  {
   "cell_type": "markdown",
   "source": [
    "## Data Exploration\n",
    "\n",
    "### BITCOIN\n",
    "\n",
    " - Unix Timestamp - Date represented as epoc value\n",
    " - Date - date and time when the data point was collected\n",
    " - Symbol - Symbol of the currency\n",
    " - Open - Open value of the currency\n",
    " - High - Highest value of currency in the given minute\n",
    " - Low - Lowest value of currency in the given minute\n",
    " - Close - Close value of the currency in the given minute\n",
    " - Volume - Volume of the currency transacted in the given minute.\n",
    "\n",
    "### TWITTER\n",
    "\n",
    " - user_name    The name of the user, as they’ve defined it.\n",
    " - user_location    The user-defined location for this account’s profile.\n",
    " - user_description\tThe user-defined UTF-8 string describing their account.\n",
    " - user_created\tTime and date, when the account was created.\n",
    " - user_followers\tThe number of followers an account currently has.\n",
    " - user_friends\tThe number of friends a account currently has.\n",
    " - user_favourites\tThe number of favorites a account currently has\n",
    " - user_verified    When true, indicates that the user has a verified account\n",
    " - date UTC time and date when the Tweet was created\n",
    " - text The actual UTF-8 text of the Tweet\n",
    " - hashtags\tAll the other hashtags posted in the tweet along with #Bitcoin & #btc\n",
    " - source   Utility used to post the Tweet, Tweets from the Twitter website have a source value - web\n",
    " - is_retweet\tIndicates whether this Tweet has been Retweeted by the authenticating user."
   ],
   "metadata": {
    "collapsed": false
   }
  },
  {
   "cell_type": "code",
   "execution_count": null,
   "source": [
    "import matplotlib.pyplot as plt\n",
    "from matplotlib.pyplot import rc\n",
    "plt.style.use('ggplot')\n",
    "\n",
    "import re"
   ],
   "outputs": [],
   "metadata": {}
  },
  {
   "cell_type": "code",
   "execution_count": 120,
   "source": [
    "tweets_schema = StructType([\n",
    "    StructField('user_name', StringType(), True),\n",
    "    StructField('user_location', StringType(), True),\n",
    "    StructField('user_description', StringType(), True),\n",
    "    StructField('user_created', StringType(), True),\n",
    "    StructField('user_followers', FloatType(), True),\n",
    "    StructField('user_friends', IntegerType(), True),\n",
    "    StructField('user_favourites', IntegerType(), True),\n",
    "    StructField('user_verified', BooleanType(), True),\n",
    "    StructField('date', StringType(), True),\n",
    "    StructField('text', StringType(), True),\n",
    "    StructField('hashtags', StringType(), True),\n",
    "    StructField('source', StringType(), True),\n",
    "    StructField('is_retweet', BooleanType(), True),\n",
    "])\n",
    "\n",
    "\n",
    "tweets_df = spark.read.csv(\n",
    "    \"./data/tweets.csv\", \n",
    "    header=True,\n",
    "    sep=',',\n",
    "    multiLine=True,\n",
    "    schema=tweets_schema\n",
    "\n",
    ")\n",
    "\n",
    "btc_schema = StructType([\n",
    "StructField('Unix Timestamp', StringType(), True),\n",
    "StructField('Date', StringType(), True),\n",
    "\n",
    "StructField('Symbol', StringType(), True),\n",
    "StructField('Open', FloatType(), True),\n",
    "StructField('High', FloatType(), True),\n",
    "StructField('Low', FloatType(), True),\n",
    "StructField('Close', FloatType(), True),\n",
    "StructField('Volume', FloatType(), True),\n",
    "])\n",
    "\n",
    "btc_df = spark.read.csv(\n",
    "    \"./data/bitcoinvalue.csv\",\n",
    "    sep=',',\n",
    "    header=True,\n",
    "    multiLine=True,\n",
    "    schema=btc_schema)\n",
    "\n",
    "tweets_df.show(3)"
   ],
   "outputs": [
    {
     "output_type": "stream",
     "name": "stdout",
     "text": [
      "+-------------+---------------+--------------------+-------------------+--------------+------------+---------------+-------------+-------------------+--------------------+--------------------+--------------------+----------+\n",
      "|    user_name|  user_location|    user_description|       user_created|user_followers|user_friends|user_favourites|user_verified|               date|                text|            hashtags|              source|is_retweet|\n",
      "+-------------+---------------+--------------------+-------------------+--------------+------------+---------------+-------------+-------------------+--------------------+--------------------+--------------------+----------+\n",
      "|DeSota Wilson|    Atlanta, GA|Biz Consultant, r...|2009-04-26 20:05:09|        8534.0|        7605|           4838|        false|2021-02-10 23:59:04|Blue Ridge Bank s...|         ['bitcoin']|     Twitter Web App|     false|\n",
      "|     CryptoND|           null|😎 BITCOINLIVE is...|2019-10-17 20:12:10|        6769.0|        1532|          25483|        false|2021-02-10 23:58:48|\"😎 Today, that's...| #Btc #wallet #se...|['Thursday', 'Btc...|      null|\n",
      "|    Tdlmatias|London, England|IM Academy : The ...|2014-11-10 10:50:37|         128.0|         332|            924|        false|2021-02-10 23:54:48|Guys evening, I h...|                null|     Twitter Web App|     false|\n",
      "+-------------+---------------+--------------------+-------------------+--------------+------------+---------------+-------------+-------------------+--------------------+--------------------+--------------------+----------+\n",
      "only showing top 3 rows\n",
      "\n"
     ]
    }
   ],
   "metadata": {}
  },
  {
   "cell_type": "markdown",
   "source": [
    "## Bitcoin"
   ],
   "metadata": {
    "collapsed": false
   }
  },
  {
   "cell_type": "code",
   "execution_count": null,
   "source": [
    "btc_df.describe([\"unix Timestamp\"]).show()"
   ],
   "outputs": [],
   "metadata": {
    "collapsed": false,
    "pycharm": {
     "name": "#%%\n"
    }
   }
  },
  {
   "cell_type": "markdown",
   "source": [
    "##### Date"
   ],
   "metadata": {
    "collapsed": false
   }
  },
  {
   "cell_type": "code",
   "execution_count": null,
   "source": [
    "btc_df.describe([\"Date\"]).show()"
   ],
   "outputs": [],
   "metadata": {
    "collapsed": false,
    "pycharm": {
     "name": "#%%\n"
    }
   }
  },
  {
   "cell_type": "markdown",
   "source": [
    "##### Symbol\n",
    "We're going to drop this one. As BTC will be the only currency in this project for now."
   ],
   "metadata": {
    "collapsed": false
   }
  },
  {
   "cell_type": "markdown",
   "source": [
    "##### Open"
   ],
   "metadata": {
    "collapsed": false
   }
  },
  {
   "cell_type": "code",
   "execution_count": null,
   "source": [
    "btc_df.describe([\"Open\"]).show()"
   ],
   "outputs": [],
   "metadata": {
    "collapsed": false,
    "pycharm": {
     "name": "#%%\n"
    }
   }
  },
  {
   "cell_type": "markdown",
   "source": [
    "##### High"
   ],
   "metadata": {
    "collapsed": false
   }
  },
  {
   "cell_type": "code",
   "execution_count": null,
   "source": [
    "btc_df.describe([\"High\"]).show()"
   ],
   "outputs": [],
   "metadata": {
    "collapsed": false,
    "pycharm": {
     "name": "#%%\n"
    }
   }
  },
  {
   "cell_type": "markdown",
   "source": [
    "##### Low"
   ],
   "metadata": {
    "collapsed": false
   }
  },
  {
   "cell_type": "code",
   "execution_count": null,
   "source": [
    "btc_df.describe([\"Low\"]).show()"
   ],
   "outputs": [],
   "metadata": {
    "collapsed": false,
    "pycharm": {
     "name": "#%%\n"
    }
   }
  },
  {
   "cell_type": "markdown",
   "source": [
    "##### Close"
   ],
   "metadata": {
    "collapsed": false
   }
  },
  {
   "cell_type": "code",
   "execution_count": null,
   "source": [
    "btc_df.describe([\"Close\"]).show()"
   ],
   "outputs": [],
   "metadata": {
    "collapsed": false,
    "pycharm": {
     "name": "#%%\n"
    }
   }
  },
  {
   "cell_type": "markdown",
   "source": [
    "##### Volume"
   ],
   "metadata": {
    "collapsed": false
   }
  },
  {
   "cell_type": "code",
   "execution_count": null,
   "source": [
    "btc_df.describe([\"Volume\"]).show()"
   ],
   "outputs": [],
   "metadata": {
    "collapsed": false,
    "pycharm": {
     "name": "#%%\n"
    }
   }
  },
  {
   "cell_type": "markdown",
   "source": [
    "## TWITTER"
   ],
   "metadata": {
    "collapsed": false
   }
  },
  {
   "cell_type": "code",
   "execution_count": null,
   "source": [
    "tweets_df.count()"
   ],
   "outputs": [],
   "metadata": {
    "collapsed": false,
    "pycharm": {
     "name": "#%%\n"
    }
   }
  },
  {
   "cell_type": "markdown",
   "source": [
    "##### user_name\n",
    "Should be dropped"
   ],
   "metadata": {
    "collapsed": false
   }
  },
  {
   "cell_type": "code",
   "execution_count": null,
   "source": [
    "tweets_df.drop(\"user_name\")"
   ],
   "outputs": [],
   "metadata": {
    "collapsed": false,
    "pycharm": {
     "name": "#%%\n"
    }
   }
  },
  {
   "cell_type": "markdown",
   "source": [
    "##### user_location"
   ],
   "metadata": {
    "collapsed": false
   }
  },
  {
   "cell_type": "code",
   "execution_count": null,
   "source": [
    "tweets_df.select(F.countDistinct(\"user_location\")).show()\n",
    "tweets_df.select([F.count(F.when(col(\"user_location\").isNull(), \"user_location\"))]).show()"
   ],
   "outputs": [],
   "metadata": {
    "collapsed": false,
    "pycharm": {
     "name": "#%%\n"
    }
   }
  },
  {
   "cell_type": "markdown",
   "source": [
    "##### user_description\n",
    "\n",
    "Should be dropped"
   ],
   "metadata": {
    "collapsed": false
   }
  },
  {
   "cell_type": "code",
   "execution_count": null,
   "source": [
    "tweets_df.drop(\"user_description\")"
   ],
   "outputs": [],
   "metadata": {
    "collapsed": false,
    "pycharm": {
     "name": "#%%\n"
    }
   }
  },
  {
   "cell_type": "markdown",
   "source": [
    "##### user_created"
   ],
   "metadata": {
    "collapsed": false
   }
  },
  {
   "cell_type": "code",
   "execution_count": null,
   "source": [
    "tweets_df.describe([\"user_created\"]).show()\n",
    "\n",
    "tweets_df.select([F.count(F.when(col(\"user_created\").isNull(), \"user_created\"))]).show()"
   ],
   "outputs": [],
   "metadata": {
    "collapsed": false,
    "pycharm": {
     "name": "#%%\n"
    }
   }
  },
  {
   "cell_type": "markdown",
   "source": [
    "##### user_followers"
   ],
   "metadata": {
    "collapsed": false
   }
  },
  {
   "cell_type": "code",
   "execution_count": null,
   "source": [
    "tweets_df.select([F.count(F.when(col(\"user_followers\").isNull(), \"user_followers\"))]).show()"
   ],
   "outputs": [],
   "metadata": {
    "collapsed": false,
    "pycharm": {
     "name": "#%%\n"
    }
   }
  },
  {
   "cell_type": "markdown",
   "source": [
    "##### user_followers"
   ],
   "metadata": {
    "collapsed": false
   }
  },
  {
   "cell_type": "code",
   "execution_count": null,
   "source": [
    "tweets_df.select([F.count(F.when(col(\"user_followers\").isNull(), \"user_followers\"))]).show()"
   ],
   "outputs": [],
   "metadata": {
    "collapsed": false,
    "pycharm": {
     "name": "#%%\n"
    }
   }
  },
  {
   "cell_type": "markdown",
   "source": [
    "##### user_friends"
   ],
   "metadata": {
    "collapsed": false
   }
  },
  {
   "cell_type": "code",
   "execution_count": null,
   "source": [
    "tweets_df.select([F.count(F.when(col(\"user_friends\").isNull(), \"user_friends\"))]).show()"
   ],
   "outputs": [],
   "metadata": {
    "collapsed": false,
    "pycharm": {
     "name": "#%%\n"
    }
   }
  },
  {
   "cell_type": "markdown",
   "source": [
    "##### user_favourites"
   ],
   "metadata": {
    "collapsed": false
   }
  },
  {
   "cell_type": "code",
   "execution_count": null,
   "source": [
    "tweets_df.select([F.count(F.when(col(\"user_favourites\").isNull(), \"user_favourites\"))]).show()"
   ],
   "outputs": [],
   "metadata": {
    "collapsed": false,
    "pycharm": {
     "name": "#%%\n"
    }
   }
  },
  {
   "cell_type": "markdown",
   "source": [
    "##### user_verified"
   ],
   "metadata": {
    "collapsed": false
   }
  },
  {
   "cell_type": "code",
   "execution_count": null,
   "source": [
    "tweets_df.select(F.count(F.when(col(\"user_verified\").isNull(), \"user_verified\")),\n",
    "                 F.count(F.when(col(\"user_verified\") == \"false\", \"user_verified\")),\n",
    "                 F.count(F.when(col(\"user_verified\") == \"true\", \"user_verified\"))).show()"
   ],
   "outputs": [],
   "metadata": {
    "collapsed": false,
    "pycharm": {
     "name": "#%%\n"
    }
   }
  },
  {
   "cell_type": "markdown",
   "source": [
    "##### date"
   ],
   "metadata": {
    "collapsed": false
   }
  },
  {
   "cell_type": "code",
   "execution_count": null,
   "source": [
    "tweets_df.select(F.countDistinct(\"date\")).show()\n",
    "tweets_df.select([F.count(F.when(col(\"date\").isNull(), \"date\"))]).show()\n",
    "tweets_df.show(3)"
   ],
   "outputs": [],
   "metadata": {
    "collapsed": false,
    "pycharm": {
     "name": "#%%\n"
    }
   }
  },
  {
   "cell_type": "markdown",
   "source": [
    "##### text"
   ],
   "metadata": {
    "collapsed": false
   }
  },
  {
   "cell_type": "code",
   "execution_count": null,
   "source": [
    "tweets_df.select(F.count(F.when(col(\"text\").isNull(), \"text\"))).show()"
   ],
   "outputs": [],
   "metadata": {
    "collapsed": false,
    "pycharm": {
     "name": "#%%\n"
    }
   }
  },
  {
   "cell_type": "markdown",
   "source": [
    "##### hashtags"
   ],
   "metadata": {
    "collapsed": false
   }
  },
  {
   "cell_type": "code",
   "execution_count": null,
   "source": [
    "tweets_df.select(F.countDistinct(\"hashtags\")).show()\n",
    "tweets_df.select([F.count(F.when(col(\"hashtags\").isNull(), \"hashtags\"))]).show()"
   ],
   "outputs": [],
   "metadata": {
    "collapsed": false,
    "pycharm": {
     "name": "#%%\n"
    }
   }
  },
  {
   "cell_type": "markdown",
   "source": [
    "##### source"
   ],
   "metadata": {
    "collapsed": false
   }
  },
  {
   "cell_type": "code",
   "execution_count": null,
   "source": [
    "tweets_df.select(F.countDistinct(\"source\")).show()\n",
    "tweets_df.select([F.count(F.when(col(\"source\").isNull(), \"source\"))]).show()"
   ],
   "outputs": [],
   "metadata": {
    "collapsed": false,
    "pycharm": {
     "name": "#%%\n"
    }
   }
  },
  {
   "cell_type": "markdown",
   "source": [
    "##### is_retweet"
   ],
   "metadata": {
    "collapsed": false
   }
  },
  {
   "cell_type": "code",
   "execution_count": null,
   "source": [
    "tweets_df.select(F.count(F.when(col(\"is_retweet\").isNull(), \"is_retweet\")).alias(\"null values\"),\n",
    "                 F.count(F.when(col(\"is_retweet\") == \"false\", \"is_retweet\")),\n",
    "                 F.count(F.when(col(\"is_retweet\") == \"true\", \"is_retweet\"))).show()"
   ],
   "outputs": [],
   "metadata": {
    "collapsed": false,
    "pycharm": {
     "name": "#%%\n"
    }
   }
  },
  {
   "cell_type": "markdown",
   "source": [
    "## Preparing Data    Date|\n",
    "+-------+-------------+"
   ],
   "metadata": {
    "collapsed": false
   }
  },
  {
   "cell_type": "code",
   "execution_count": null,
   "source": [
    "from pyspark.sql.functions import udf\n",
    "\n",
    "def conv_to_int(val):\n",
    "    if isinstance(val, str):\n",
    "        return 0\n",
    "    else:\n",
    "        return float(val)\n",
    "\n",
    "conv_to_int_udf = udf(lambda x : conv_to_int(x), IntegerType())\n",
    "\n",
    "tweets_df = tweets_df.withColumn(\"user_followers\", conv_to_int_udf(col(\"user_followers\")))\\\n",
    "    .withColumn(\"user_friends\", conv_to_int_udf(col(\"user_friends\")))\\\n",
    "    .withColumn(\"user_favourites\", conv_to_int_udf(col(\"user_favourites\")))"
   ],
   "outputs": [],
   "metadata": {
    "collapsed": false,
    "pycharm": {
     "name": "#%%\n"
    }
   }
  },
  {
   "cell_type": "markdown",
   "source": [
    "### Text cleaning"
   ],
   "metadata": {
    "collapsed": false
   }
  },
  {
   "cell_type": "code",
   "execution_count": null,
   "source": [
    "def clean_text(text):\n",
    "    if(isinstance(text, str)):\n",
    "        text = text.replace(\"#\",\"\")\n",
    "        text = re.sub('\\\\n', '', text)\n",
    "        text = re.sub('https:\\/\\/\\S+', '', text)\n",
    "        return text\n",
    "    else:\n",
    "        return \"\"\n",
    "\n",
    "clean_text_udf = udf(lambda x : clean_text(x), StringType())\n",
    "\n",
    "tweets_df.withColumn(\"text\", clean_text_udf(col(\"text\")))"
   ],
   "outputs": [],
   "metadata": {
    "collapsed": false,
    "pycharm": {
     "name": "#%%\n"
    }
   }
  },
  {
   "cell_type": "markdown",
   "source": [
    "### Generating impact score"
   ],
   "metadata": {
    "collapsed": false
   }
  },
  {
   "cell_type": "code",
   "execution_count": null,
   "source": [
    "from pyspark.sql.functions import struct\n",
    "\n",
    "def generate_impact_score(tweet):\n",
    "    coef_verified = 1.1 if tweet.user_verified else 1\n",
    "    coef_hashtags = 1+(tweet.hashtags_len/20)\n",
    "    return ((tweet.user_followers + (tweet.user_friends/4))*coef_verified*coef_hashtags)/100\n",
    "\n",
    "generate_impact_score_udf = udf(lambda x : generate_impact_score(x), FloatType())\n",
    "\n",
    "tweets_df.withColumn(\"impact_score\", generate_impact_score_udf(struct([tweets_df[x] for x in tweets_df.columns])))"
   ],
   "outputs": [],
   "metadata": {
    "collapsed": false,
    "pycharm": {
     "name": "#%%\n"
    }
   }
  },
  {
   "cell_type": "markdown",
   "source": [
    "## Data visualisation"
   ],
   "metadata": {
    "collapsed": false
   }
  },
  {
   "cell_type": "markdown",
   "source": [
    "### Twitter"
   ],
   "metadata": {
    "collapsed": false
   }
  },
  {
   "cell_type": "code",
   "execution_count": null,
   "source": [
    "%matplotlib inline\n",
    "\n",
    "tweets_volume = tweets_df.groupby(\"date\").count().sort(desc(\"count\"))\n",
    "tweets_volume.show()\n",
    "\n",
    "\n",
    "n = 10\n",
    "x_rows = tweets_volume.limit(n).select(\"date\").collect()\n",
    "x = list(map(lambda r : str(r['date']), x_rows))\n",
    "\n",
    "y_rows = tweets_volume.limit(n).select(\"count\").collect()\n",
    "y = list(map(lambda r : int(r['count']), y_rows))\n",
    "\n",
    "rc('figure', figsize=(25, 15))\n",
    "fig, ax = plt.subplots()\n",
    "ax.plot(x, y,\n",
    "        label='tweets per user')\n",
    "\n",
    "ax.set_xlabel('username')\n",
    "ax.set_ylabel('# tweets')\n",
    "ax.legend()"
   ],
   "outputs": [],
   "metadata": {}
  },
  {
   "cell_type": "markdown",
   "source": [
    "### Tweets / user"
   ],
   "metadata": {
    "collapsed": false
   }
  },
  {
   "cell_type": "code",
   "execution_count": null,
   "source": [
    "%matplotlib inline\n",
    "\n",
    "user_volume = tweets_df.groupby(\"user_name\").count().sort(desc(\"count\"))\n",
    "\n",
    "n = 10\n",
    "x_rows = user_volume.limit(n).select(\"user_name\").collect()\n",
    "x = list(map(lambda r : str(r['user_name']), x_rows))\n",
    "\n",
    "y_rows = user_volume.limit(n).select(\"count\").collect()\n",
    "y = list(map(lambda r : int(r['count']), y_rows))\n",
    "\n",
    "rc('figure', figsize=(25, 15))\n",
    "fig, ax = plt.subplots()\n",
    "ax.plot(x, y,\n",
    "        label='tweets per user')\n",
    "\n",
    "ax.set_xlabel('username')\n",
    "ax.set_ylabel('# tweets')\n",
    "ax.legend()"
   ],
   "outputs": [],
   "metadata": {
    "collapsed": false,
    "pycharm": {
     "name": "#%%\n"
    }
   }
  },
  {
   "cell_type": "markdown",
   "source": [
    "### Bitcoin Value"
   ],
   "metadata": {
    "collapsed": false
   }
  },
  {
   "cell_type": "code",
   "execution_count": null,
   "source": [
    "# fig, ax = plt.subplots()\n",
    "# ax.plot(btc_value_df['Date'],btc_value_df['Open'],label='Bitcoin Value')\n",
    "# ax.tick_params(axis='y')\n",
    "#\n",
    "# lines, labels = ax.get_legend_handles_labels()\n",
    "#\n",
    "# ax.legend(lines, labels)\n",
    "# plt.title(\"Bitcoin Value\")\n",
    "#\n",
    "# plt.show()"
   ],
   "outputs": [],
   "metadata": {}
  },
  {
   "cell_type": "code",
   "execution_count": null,
   "source": [
    "df_location = tweets_df.groupBy('user_location').count().sort(col(\"count\").desc()).show()"
   ],
   "outputs": [],
   "metadata": {}
  },
  {
   "cell_type": "code",
   "execution_count": 121,
   "source": [
    "import datetime\n",
    "date_df = tweets_df.withColumn(\"date\", F.to_date(F.col(\"date\")))\n",
    "date_df = date_df.groupby(\"date\").count().dropna().sort(asc(\"date\")).filter((date_df.date > datetime.datetime(2020, 3, 20) )& (date_df.date < datetime.datetime(2021,9,10)))\n",
    "date_df.sort(desc(\"date\")).show(1)\n",
    "date_df.sort(asc(\"date\")).show(1)\n",
    "x_rows = date_df.select(\"date\").collect() \n",
    "tweets_x = list(map(lambda r : str(r['date']), x_rows)) \n",
    "y_rows = date_df.select(\"count\").collect() \n",
    "tweets_y = list(map(lambda r : int(r['count']), y_rows))"
   ],
   "outputs": [
    {
     "output_type": "stream",
     "name": "stdout",
     "text": [
      "+----------+-----+\n",
      "|      date|count|\n",
      "+----------+-----+\n",
      "|2021-08-26|39011|\n",
      "+----------+-----+\n",
      "only showing top 1 row\n",
      "\n",
      "+----------+-----+\n",
      "|      date|count|\n",
      "+----------+-----+\n",
      "|2021-01-07|    1|\n",
      "+----------+-----+\n",
      "only showing top 1 row\n",
      "\n"
     ]
    }
   ],
   "metadata": {}
  },
  {
   "cell_type": "code",
   "execution_count": 122,
   "source": [
    "# btc_df = btc_df.withColumn(\"Date\", F.to_date(F.col(\"Date\")))\n",
    "# btc_df.select(\"Date\").distinct().show(3)\n",
    "btc_df = btc_df.withColumn(\"Date\", F.to_date(F.to_timestamp(col(\"Date\"), \"M/d/yyyy H:mm\")))\n",
    "btc_df = btc_df.withColumn(\"week_strt_day\",F.date_sub(F.next_day(col(\"Date\"),\"sunday\"),7)).groupBy(col(\"week_strt_day\")).agg({\"Volume\": \"max\"})\n",
    "# btc_df = btc_df.groupby(\"Date\").agg({\"Volume\": \"max\"}).dropna()\n",
    "x_rows = btc_df.select(\"week_strt_day\").collect() \n",
    "btc_x = list(map(lambda r : str(r['week_strt_day']), x_rows)) \n",
    "y_rows = btc_df.select(\"max(Volume)\").dropna().collect() \n",
    "btc_y = list(map(lambda r : float(r['max(Volume)']), y_rows))"
   ],
   "outputs": [],
   "metadata": {}
  },
  {
   "cell_type": "code",
   "execution_count": 127,
   "source": [
    "%matplotlib inline \n",
    "rc('figure', figsize=(16, 8))\n",
    "fig, ax1 = plt.subplots()\n",
    "ax1.plot(tweets_x, tweets_y,\n",
    "        color=\"orange\",\n",
    "        label='Tweets')\n",
    "ax1.tick_params(axis='y')\n",
    "# date_form = mdates.DateFormatter(\"%b\")\n",
    "# ax1.xaxis.set_major_formatter(date_form)\n",
    "ax2 = ax1.twinx()\n",
    "ax2.plot(btc_x, btc_y,\n",
    "color=\"red\",\n",
    "        label='BTC Value')\n",
    "ax2.set_yscale('log')\n",
    "ax2.tick_params(axis='y')\n",
    "# ax2.xaxis.set_major_formatter(date_form)\n",
    "\n",
    "ax2.set_xlabel('Date')\n",
    "ax2.set_ylabel('Value')\n",
    "plt.show()"
   ],
   "outputs": [
    {
     "output_type": "display_data",
     "data": {
      "image/png": "[encoded data removed]",
      "text/plain": [
       "<Figure size 1152x576 with 2 Axes>"
      ]
     },
     "metadata": {
      "needs_background": "light"
     }
    }
   ],
   "metadata": {}
  }
 ],
 "metadata": {
  "interpreter": {
   "hash": "916dbcbb3f70747c44a77c7bcd40155683ae19c65e1c03b4aa3499c5328201f1"
  },
  "kernelspec": {
   "name": "python3",
   "display_name": "Python 3.9.5 64-bit"
  },
  "language_info": {
   "codemirror_mode": {
    "name": "ipython",
    "version": 3
   },
   "file_extension": ".py",
   "mimetype": "text/x-python",
   "name": "python",
   "nbconvert_exporter": "python",
   "pygments_lexer": "ipython3",
   "version": "3.9.5"
  }
 },
 "nbformat": 4,
 "nbformat_minor": 2
}