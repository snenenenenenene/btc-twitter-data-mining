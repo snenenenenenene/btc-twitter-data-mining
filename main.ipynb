{
 "cells": [
  {
   "cell_type": "markdown",
   "source": [
    "# Bitcoin & Twitter"
   ],
   "metadata": {}
  },
  {
   "cell_type": "code",
   "execution_count": 1,
   "source": [
    "from pyspark import SparkContext\n",
    "from pyspark.sql import SparkSession\n",
    "from pyspark.sql import SQLContext\n",
    "from pyspark.sql.types import *\n",
    "from datetime import datetime\n",
    "from pyspark.sql import *\n",
    "from pyspark.sql.functions import col\n",
    "from pyspark.sql import functions as F\n",
    "\n",
    "\n",
    "sc = SparkContext(\"local\")\n",
    "sqlContext = SQLContext(sc)\n",
    "spark = SparkSession(sc)"
   ],
   "outputs": [
    {
     "output_type": "stream",
     "name": "stderr",
     "text": [
      "21/10/19 13:28:16 WARN Utils: Your hostname, pop-os resolves to a loopback address: 127.0.1.1; using 192.168.1.6 instead (on interface wlp59s0)\n",
      "21/10/19 13:28:16 WARN Utils: Set SPARK_LOCAL_IP if you need to bind to another address\n",
      "WARNING: An illegal reflective access operation has occurred\n",
      "WARNING: Illegal reflective access by org.apache.spark.unsafe.Platform (file:/opt/spark/jars/spark-unsafe_2.12-3.1.1.jar) to constructor java.nio.DirectByteBuffer(long,int)\n",
      "WARNING: Please consider reporting this to the maintainers of org.apache.spark.unsafe.Platform\n",
      "WARNING: Use --illegal-access=warn to enable warnings of further illegal reflective access operations\n",
      "WARNING: All illegal access operations will be denied in a future release\n",
      "21/10/19 13:28:17 WARN NativeCodeLoader: Unable to load native-hadoop library for your platform... using builtin-java classes where applicable\n",
      "Using Spark's default log4j profile: org/apache/spark/log4j-defaults.properties\n",
      "Setting default log level to \"WARN\".\n",
      "To adjust logging level use sc.setLogLevel(newLevel). For SparkR, use setLogLevel(newLevel).\n"
     ]
    }
   ],
   "metadata": {}
  },
  {
   "cell_type": "code",
   "execution_count": 2,
   "source": [
    "#BITCOIN\n",
    "\n",
    "# Unix Timestamp - Date represented as epoc value\n",
    "# Date - date and time when the data point was collected\n",
    "# Symbol - Symbol of the currency\n",
    "# Open - Open value of the currency\n",
    "# High - Highest value of currency in the given minute\n",
    "# Low - Lowest value of currency in the given minute\n",
    "# Close - Close value of the currency in the given minute\n",
    "# Volume - Volume of the currency transacted in the given minute.\n",
    "\n",
    "# TWITTER\n",
    "\n",
    "# user_name\tThe name of the user, as they’ve defined it.\n",
    "# user_location\tThe user-defined location for this account’s profile.\n",
    "# user_description\tThe user-defined UTF-8 string describing their account.\n",
    "# user_created\tTime and date, when the account was created.\n",
    "# user_followers\tThe number of followers an account currently has.\n",
    "# user_friends\tThe number of friends a account currently has.\n",
    "# user_favourites\tThe number of favorites a account currently has\n",
    "# user_verified\tWhen true, indicates that the user has a verified account\n",
    "# date\tUTC time and date when the Tweet was created\n",
    "# text\tThe actual UTF-8 text of the Tweet\n",
    "# hashtags\tAll the other hashtags posted in the tweet along with #Bitcoin & #btc\n",
    "# source\tUtility used to post the Tweet, Tweets from the Twitter website have a source value - web\n",
    "# is_retweet\tIndicates whether this Tweet has been Retweeted by the authenticating user."
   ],
   "outputs": [],
   "metadata": {}
  },
  {
   "cell_type": "code",
   "execution_count": 3,
   "source": [
    "import numpy as np\n",
    "import pandas as pd\n",
    "import matplotlib.pyplot as plt\n",
    "import re\n",
    "import numpy as np\n",
    "import seaborn as sns\n",
    "from scipy import stats as stat"
   ],
   "outputs": [],
   "metadata": {}
  },
  {
   "cell_type": "code",
   "execution_count": 4,
   "source": [
    "btc_value_df = pd.read_csv('./data/bitcoinvalue.csv')\n",
    "tweets_df = pd.read_csv('./data/tweets.csv')\n",
    "\n",
    "tweets_schema = StructType([\n",
    "StructField('user_name', StringType(), True),\n",
    "StructField('user_location', StringType(), True),\n",
    "StructField('user_description', StringType(), True),\n",
    "StructField('user_created', StringType(), True),\n",
    "StructField('user_followers', IntegerType(), True),\n",
    "StructField('user_friends', IntegerType(), True),\n",
    "StructField('user_favourites', StringType(), True),\n",
    "StructField('user_verified', BooleanType(), True),\n",
    "StructField('date', StringType(), True),\n",
    "StructField('text', StringType(), True),\n",
    "StructField('hashtags', StringType(), True),\n",
    "StructField('source', StringType(), True),\n",
    "StructField('is_retweet', BooleanType(), True),\n",
    "])\n",
    "\n",
    "# tweets_df = spark.read.csv(\n",
    "#     \"./data/tweets.csv\", \n",
    "#     header=True, \n",
    "#     schema=tweets_schema)\n",
    "\n",
    "btc_schema = StructType([\n",
    "StructField('Unix Timestamp', StringType(), True),\n",
    "StructField('Date', StringType(), True),\n",
    "StructField('Symbol', StringType(), True),\n",
    "StructField('Open', FloatType(), True),\n",
    "StructField('High', FloatType(), True),\n",
    "StructField('Low', FloatType(), True),\n",
    "StructField('Close', FloatType(), True),\n",
    "StructField('Volume', FloatType(), True),\n",
    "])\n",
    "\n",
    "btc_df = spark.read.csv(\n",
    "    \"./data/bitcoinvalue.csv\", \n",
    "    header=True, \n",
    "    schema=btc_schema)\n",
    "\n",
    "# tweets_df.show()\n",
    "# btc_df.show()"
   ],
   "outputs": [
    {
     "output_type": "stream",
     "name": "stderr",
     "text": [
      "/home/snenene/.local/lib/python3.9/site-packages/IPython/core/interactiveshell.py:3441: DtypeWarning: Columns (5,6,7,12) have mixed types.Specify dtype option on import or set low_memory=False.\n",
      "  exec(code_obj, self.user_global_ns, self.user_ns)\n"
     ]
    }
   ],
   "metadata": {}
  },
  {
   "cell_type": "code",
   "execution_count": 5,
   "source": [
    "#Function BEFORE\n",
    "\n",
    "tweets_df[\"hashtags\"]=tweets_df[\"hashtags\"].apply(lambda s : s[1:-1].split(',') if isinstance(s,str) else [])\n",
    "tweets_df[\"hashtags_len\"]=tweets_df[\"hashtags\"].apply(len)\n",
    "\n",
    "#Function AFTER\n",
    "\n",
    "# tweets_df = tweets_df.select(F.split(col('hashtags'), \",\").alias(\"hastags_array\")).drop('hashtags')\n",
    "\n",
    "# Functions you have to convert to spark\n",
    "\n",
    "def conv_to_int(val):\n",
    "    if isinstance(val, str):\n",
    "        return 0\n",
    "    else:\n",
    "        return float(val)\n",
    "tweets_df[\"user_followers\"]=tweets_df[\"user_followers\"].apply(lambda x : conv_to_int(x))\n",
    "tweets_df[\"user_friends\"]=tweets_df[\"user_friends\"].apply(lambda x : conv_to_int(x))\n",
    "tweets_df[\"user_favourites\"]=tweets_df[\"user_favourites\"].apply(lambda x : conv_to_int(x))\n",
    "\n",
    "def clean_text(text):\n",
    "    if(isinstance(text, str)):\n",
    "        text = text.replace(\"#\",\"\")\n",
    "        text = re.sub('\\\\n', '', text)\n",
    "        text = re.sub('https:\\/\\/\\S+', '', text)\n",
    "        return text\n",
    "    else:\n",
    "        return \"\"\n",
    "\n",
    "tweets_df[\"clean_text\"]=tweets_df[\"text\"].apply(clean_text)\n",
    "tweets_df.drop(\"text\", axis=1, inplace=True)\n",
    "\n",
    "tweets_df[\"date\"]=pd.to_datetime(tweets_df[\"date\"],errors='coerce')\n",
    "tweets_df[\"date\"]=tweets_df[\"date\"].apply(lambda x: x.date() )\n",
    "\n",
    "def generate_impact_score(tweet):\n",
    "    coef_verified = 1.1 if tweet.user_verified else 1\n",
    "    coef_hashtags = 1+(tweet.hashtags_len/20)\n",
    "    return ((tweet.user_followers + (tweet.user_friends/4))*coef_verified*coef_hashtags)/100\n",
    "\n",
    "tweets_df[\"impact_score\"]=tweets_df.apply(generate_impact_score, axis=1)\n",
    "\n",
    "btc_value_df['Date'] = pd.to_datetime(btc_value_df['Date'])"
   ],
   "outputs": [],
   "metadata": {}
  },
  {
   "cell_type": "code",
   "execution_count": 6,
   "source": [
    "tweets_vol = tweets_df.groupby('date').size().rolling(10).mean().dropna()\n",
    "fig, ax = plt.subplots()\n",
    "\n",
    "ax.plot(tweets_vol.index,tweets_vol,label='Total Tweets')\n",
    "ax.set_yscale('log')\n",
    "ax.tick_params(axis='y')\n",
    "\n",
    "lines, labels = ax.get_legend_handles_labels()\n",
    "\n",
    "ax.legend(lines, labels, loc=0)\n",
    "plt.title(\"Total Tweets / Date\")\n",
    "\n",
    "plt.show()"
   ],
   "outputs": [
    {
     "output_type": "display_data",
     "data": {
      "image/png": "[encoded data removed]",
      "text/plain": [
       "<Figure size 432x288 with 1 Axes>"
      ]
     },
     "metadata": {
      "needs_background": "light"
     }
    }
   ],
   "metadata": {}
  },
  {
   "cell_type": "code",
   "execution_count": 7,
   "source": [
    "fig, ax = plt.subplots()\n",
    "ax.plot(btc_value_df['Date'],btc_value_df['Open'],label='Bitcoin Value')\n",
    "ax.tick_params(axis='y')\n",
    "\n",
    "lines, labels = ax.get_legend_handles_labels()\n",
    "\n",
    "ax.legend(lines, labels)\n",
    "plt.title(\"Bitcoin Value\")\n",
    "\n",
    "plt.show()"
   ],
   "outputs": [
    {
     "output_type": "display_data",
     "data": {
      "image/png": "[encoded data removed]",
      "text/plain": [
       "<Figure size 432x288 with 1 Axes>"
      ]
     },
     "metadata": {
      "needs_background": "light"
     }
    }
   ],
   "metadata": {}
  },
  {
   "cell_type": "code",
   "execution_count": 8,
   "source": [
    "tweets_schema = StructType([\n",
    "StructField('user_name', StringType(), True),\n",
    "StructField('user_location', StringType(), True),\n",
    "StructField('user_description', StringType(), True),\n",
    "StructField('user_created', StringType(), True),\n",
    "StructField('user_followers', IntegerType(), True),\n",
    "StructField('user_friends', IntegerType(), True),\n",
    "StructField('user_favourites', StringType(), True),\n",
    "StructField('user_verified', BooleanType(), True),\n",
    "StructField('date', StringType(), True),\n",
    "StructField('text', StringType(), True),\n",
    "StructField('hashtags', StringType(), True),\n",
    "StructField('source', StringType(), True),\n",
    "StructField('is_retweet', BooleanType(), True),\n",
    "])\n",
    "\n",
    "tweets_df = spark.read.csv(\n",
    "    \"./data/tweets.csv\", \n",
    "    header=True, \n",
    "    schema=tweets_schema)\n",
    "\n",
    "btc_schema = StructType([\n",
    "StructField('Unix Timestamp', StringType(), True),\n",
    "StructField('Date', StringType(), True),\n",
    "StructField('Symbol', StringType(), True),\n",
    "StructField('Open', FloatType(), True),\n",
    "StructField('High', FloatType(), True),\n",
    "StructField('Low', FloatType(), True),\n",
    "StructField('Close', FloatType(), True),\n",
    "StructField('Volume', FloatType(), True),\n",
    "])\n",
    "\n",
    "btc_df = spark.read.csv(\n",
    "    \"./data/bitcoinvalue.csv\", \n",
    "    header=True, \n",
    "    schema=btc_schema)\n",
    "    \n",
    "df_location = twitter_data.groupBy('user_location').count().sort(col(\"count\").desc()).show()"
   ],
   "outputs": [
    {
     "output_type": "error",
     "ename": "NameError",
     "evalue": "name 'twitter_data' is not defined",
     "traceback": [
      "\u001b[0;31m---------------------------------------------------------------------------\u001b[0m",
      "\u001b[0;31mNameError\u001b[0m                                 Traceback (most recent call last)",
      "\u001b[0;32m/tmp/ipykernel_7920/2166937369.py\u001b[0m in \u001b[0;36m<module>\u001b[0;34m\u001b[0m\n\u001b[1;32m     36\u001b[0m     schema=btc_schema)\n\u001b[1;32m     37\u001b[0m \u001b[0;34m\u001b[0m\u001b[0m\n\u001b[0;32m---> 38\u001b[0;31m \u001b[0mdf_location\u001b[0m \u001b[0;34m=\u001b[0m \u001b[0mtwitter_data\u001b[0m\u001b[0;34m.\u001b[0m\u001b[0mgroupBy\u001b[0m\u001b[0;34m(\u001b[0m\u001b[0;34m'user_location'\u001b[0m\u001b[0;34m)\u001b[0m\u001b[0;34m.\u001b[0m\u001b[0mcount\u001b[0m\u001b[0;34m(\u001b[0m\u001b[0;34m)\u001b[0m\u001b[0;34m.\u001b[0m\u001b[0msort\u001b[0m\u001b[0;34m(\u001b[0m\u001b[0mcol\u001b[0m\u001b[0;34m(\u001b[0m\u001b[0;34m\"count\"\u001b[0m\u001b[0;34m)\u001b[0m\u001b[0;34m.\u001b[0m\u001b[0mdesc\u001b[0m\u001b[0;34m(\u001b[0m\u001b[0;34m)\u001b[0m\u001b[0;34m)\u001b[0m\u001b[0;34m.\u001b[0m\u001b[0mshow\u001b[0m\u001b[0;34m(\u001b[0m\u001b[0;34m)\u001b[0m\u001b[0;34m\u001b[0m\u001b[0;34m\u001b[0m\u001b[0m\n\u001b[0m",
      "\u001b[0;31mNameError\u001b[0m: name 'twitter_data' is not defined"
     ]
    }
   ],
   "metadata": {}
  }
 ],
 "metadata": {
  "interpreter": {
   "hash": "916dbcbb3f70747c44a77c7bcd40155683ae19c65e1c03b4aa3499c5328201f1"
  },
  "kernelspec": {
   "name": "python3",
   "display_name": "Python 3.9.5 64-bit"
  },
  "language_info": {
   "codemirror_mode": {
    "name": "ipython",
    "version": 3
   },
   "file_extension": ".py",
   "mimetype": "text/x-python",
   "name": "python",
   "nbconvert_exporter": "python",
   "pygments_lexer": "ipython3",
   "version": "3.9.5"
  }
 },
 "nbformat": 4,
 "nbformat_minor": 2
}