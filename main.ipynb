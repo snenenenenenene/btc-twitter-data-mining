{
 "cells": [
  {
   "cell_type": "markdown",
   "source": [
    "# Bitcoin & Twitter"
   ],
   "metadata": {}
  },
  {
   "cell_type": "code",
   "execution_count": null,
   "source": [
    "from pyspark.sql import SQLContext\n",
    "from pyspark.sql.types import *\n",
    "from datetime import datetime\n",
    "from pyspark import SparkContext\n",
    "\n",
    "#BITCOIN\n",
    "\n",
    "# Unix Timestamp - Date represented as epoc value\n",
    "# Date - date and time when the data point was collected\n",
    "# Symbol - Symbol of the currency\n",
    "# Open - Open value of the currency\n",
    "# High - Highest value of currency in the given minute\n",
    "# Low - Lowest value of currency in the given minute\n",
    "# Close - Close value of the currency in the given minute\n",
    "# Volume - Volume of the currency transacted in the given minute.\n",
    "\n",
    "# TWITTER\n",
    "\n",
    "# user_name\tThe name of the user, as they’ve defined it.\n",
    "# user_location\tThe user-defined location for this account’s profile.\n",
    "# user_description\tThe user-defined UTF-8 string describing their account.\n",
    "# user_created\tTime and date, when the account was created.\n",
    "# user_followers\tThe number of followers an account currently has.\n",
    "# user_friends\tThe number of friends a account currently has.\n",
    "# user_favourites\tThe number of favorites a account currently has\n",
    "# user_verified\tWhen true, indicates that the user has a verified account\n",
    "# date\tUTC time and date when the Tweet was created\n",
    "# text\tThe actual UTF-8 text of the Tweet\n",
    "# hashtags\tAll the other hashtags posted in the tweet along with #Bitcoin & #btc\n",
    "# source\tUtility used to post the Tweet, Tweets from the Twitter website have a source value - web\n",
    "# is_retweet\tIndicates whether this Tweet has been Retweeted by the authenticating user.\n",
    "# sc = SparkContext(\"local\", \"main\")\n",
    "bitcoin_data = (sc.textFile('data/bitcoinvalue.csv').filter(lambda l: 'close' not in l))\n",
    "twitter_data = (sc.textFile('data/tweets.csv').filter(lambda l: 'user_name' not in l))\n",
    "print(bitcoin_data.collect())\n",
    "print(twitter_data.collect())"
   ],
   "outputs": [],
   "metadata": {}
  }
 ],
 "metadata": {
  "orig_nbformat": 4,
  "language_info": {
   "name": "python",
   "version": "3.9.5",
   "mimetype": "text/x-python",
   "codemirror_mode": {
    "name": "ipython",
    "version": 3
   },
   "pygments_lexer": "ipython3",
   "nbconvert_exporter": "python",
   "file_extension": ".py"
  },
  "kernelspec": {
   "name": "python3",
   "display_name": "Python 3.9.5 64-bit"
  },
  "interpreter": {
   "hash": "916dbcbb3f70747c44a77c7bcd40155683ae19c65e1c03b4aa3499c5328201f1"
  }
 },
 "nbformat": 4,
 "nbformat_minor": 2
}