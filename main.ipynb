{
 "cells": [
  {
   "cell_type": "markdown",
   "metadata": {},
   "source": [
    "# Bitcoin & Twitter"
   ]
  },
  {
   "cell_type": "code",
   "execution_count": 4,
   "metadata": {},
   "outputs": [
    {
     "name": "stderr",
     "output_type": "stream",
     "text": [
      "/usr/lib/python3.10/site-packages/pyspark/sql/context.py:77: FutureWarning: Deprecated in 3.0.0. Use SparkSession.builder.getOrCreate() instead.\n",
      "  warnings.warn(\n"
     ]
    }
   ],
   "source": [
    "from pyspark import SparkContext\n",
    "from pyspark.sql.types import *\n",
    "from pyspark.sql import *\n",
    "from pyspark.sql.functions import col, desc\n",
    "from pyspark.sql import functions as F\n",
    "\n",
    "\n",
    "sc = SparkContext(\"local\").getOrCreate()\n",
    "sqlContext = SQLContext(sc)\n",
    "spark = SparkSession(sc)"
   ]
  },
  {
   "cell_type": "markdown",
   "source": [
    "## Data Exploration\n",
    "\n",
    "### BITCOIN\n",
    "\n",
    " - Unix Timestamp - Date represented as epoc value\n",
    " - Date - date and time when the data point was collected\n",
    " - Symbol - Symbol of the currency\n",
    " - Open - Open value of the currency\n",
    " - High - Highest value of currency in the given minute\n",
    " - Low - Lowest value of currency in the given minute\n",
    " - Close - Close value of the currency in the given minute\n",
    " - Volume - Volume of the currency transacted in the given minute.\n",
    "\n",
    "### TWITTER\n",
    "\n",
    " - user_name    The name of the user, as they’ve defined it.\n",
    " - user_location    The user-defined location for this account’s profile.\n",
    " - user_description\tThe user-defined UTF-8 string describing their account.\n",
    " - user_created\tTime and date, when the account was created.\n",
    " - user_followers\tThe number of followers an account currently has.\n",
    " - user_friends\tThe number of friends a account currently has.\n",
    " - user_favourites\tThe number of favorites a account currently has\n",
    " - user_verified    When true, indicates that the user has a verified account\n",
    " - date UTC time and date when the Tweet was created\n",
    " - text The actual UTF-8 text of the Tweet\n",
    " - hashtags\tAll the other hashtags posted in the tweet along with #Bitcoin & #btc\n",
    " - source   Utility used to post the Tweet, Tweets from the Twitter website have a source value - web\n",
    " - is_retweet\tIndicates whether this Tweet has been Retweeted by the authenticating user."
   ],
   "metadata": {
    "collapsed": false
   }
  },
  {
   "cell_type": "code",
   "execution_count": 5,
   "metadata": {},
   "outputs": [],
   "source": [
    "import matplotlib.pyplot as plt\n",
    "from matplotlib.pyplot import rc\n",
    "plt.style.use('ggplot')\n",
    "\n",
    "import re"
   ]
  },
  {
   "cell_type": "code",
   "execution_count": 6,
   "metadata": {},
   "outputs": [
    {
     "name": "stdout",
     "output_type": "stream",
     "text": [
      "+--------------------+--------------------+--------------------+-------------------+--------------+------------+---------------+-------------+-------------------+--------------------+--------------------+--------------------+----------+\n",
      "|           user_name|       user_location|    user_description|       user_created|user_followers|user_friends|user_favourites|user_verified|               date|                text|            hashtags|              source|is_retweet|\n",
      "+--------------------+--------------------+--------------------+-------------------+--------------+------------+---------------+-------------+-------------------+--------------------+--------------------+--------------------+----------+\n",
      "|       DeSota Wilson|         Atlanta, GA|Biz Consultant, r...|2009-04-26 20:05:09|        8534.0|        7605|           4838|        false|2021-02-10 23:59:04|Blue Ridge Bank s...|         ['bitcoin']|     Twitter Web App|     false|\n",
      "|            CryptoND|                null|😎 BITCOINLIVE is...|2019-10-17 20:12:10|        6769.0|        1532|          25483|        false|2021-02-10 23:58:48|\"😎 Today, that's...| #Btc #wallet #se...|['Thursday', 'Btc...|      null|\n",
      "|           Tdlmatias|     London, England|IM Academy : The ...|2014-11-10 10:50:37|         128.0|         332|            924|        false|2021-02-10 23:54:48|Guys evening, I h...|                null|     Twitter Web App|     false|\n",
      "|Crypto is the future|                null|I will post a lot...|2019-09-28 16:48:12|         625.0|         129|             14|        false|2021-02-10 23:54:33|$BTC A big chance...|['Bitcoin', 'FX',...|             dlvr.it|     false|\n",
      "|Alex Kirchmaier ?...|              Europa|Co-founder @RENJE...|2016-02-03 13:15:55|        1249.0|        1472|          10482|        false|2021-02-10 23:54:06|This network is s...|             ['BTC']|     Twitter Web App|     false|\n",
      "| ZerrBenz™ ⚔ ✪ 20732|       Bkk, Thailand|I'm a cat slave ?...|2010-01-12 07:00:04|         742.0|         716|           2444|        false|2021-02-10 23:53:30|💹 Trade #Crypto ...|['Crypto', 'Binan...|     Twitter Web App|     false|\n",
      "|         Bitcoin-Bot|        Florida, USA|Bot to generate B...|2019-12-23 16:49:16|         131.0|          84|           5728|        false|2021-02-10 23:53:17|&lt;'fire' &amp; ...|['Bitcoin', 'Cryp...|           BTC_p_bot|     false|\n",
      "|Cryptocurrencies ...|                null|Stay updated on t...|2018-08-03 21:30:08|        4052.0|           1|              9|        false|2021-02-10 23:52:42|🔄 Prices update ...|                null|Cryptocurrencies ...|     false|\n",
      "|             Mikcoin|                null|Technical Analyst...|2020-11-26 23:45:46|         104.0|          41|            238|        false|2021-02-10 23:52:25|#BTC #Bitcoin #Et...|['BTC', 'Bitcoin'...|     Twitter Web App|     false|\n",
      "|       DeSota Wilson|         Atlanta, GA|Biz Consultant, r...|2009-04-26 20:05:09|        8534.0|        7605|           4838|        false|2021-02-10 23:52:08|.@Tesla’s #bitcoi...|['bitcoin', 'cryp...|     Twitter Web App|     false|\n",
      "|@massumeh18 #Refi...|                NOVA|Persistent. to th...|2009-01-05 13:28:47|        1159.0|        2185|          30852|        false|2021-02-10 23:52:04|Annnd #btc #Bitco...|  ['btc', 'Bitcoin']|     Twitter Web App|     false|\n",
      "|       BittrexPrices|                null|Scans Bittrex’s m...|2018-05-25 20:30:07|        3131.0|           1|             18|        false|2021-02-10 23:51:25|🔄 Prices update ...|                null|      Bittrex Prices|     false|\n",
      "|             CPUcoin|      Cayman Islands|The Sharing Econo...|2018-08-27 15:42:00|        5097.0|         791|             52|        false|2021-02-10 23:50:59|Join our first vi...|                null|     Twitter Web App|     false|\n",
      "|     One Perspective|        Market Place|It's all a market...|2018-01-09 21:49:45|         668.0|        1097|           6853|        false|2021-02-10 23:50:30|#Bitcoin #BTC $BT...|['Bitcoin', 'BTC'...| Twitter for Android|     false|\n",
      "|        CryptoSquawk|           Australia|24x7 Crypto marke...|2017-10-05 10:13:09|        1281.0|          25|             72|        false|2021-02-10 23:50:02|⬆️⬆️ $BTC BUYING ...|['Bitcoin', 'cryp...|     CryptoSquawkBot|     false|\n",
      "|               $MOON|                Moon|            #Bitcoin|2010-07-12 09:07:42|           4.0|          32|            139|        false|2021-02-10 23:48:38|Buy #Bitcoin with...|['Bitcoin', 'cryp...|     Twitter Web App|     false|\n",
      "|        Mr. Anderson|                null|#Bitcoin\\nLong Te...|2018-01-01 22:16:16|       72542.0|         519|          19763|        false|2021-02-10 23:48:37|@naval #BTC is un...|  ['BTC', 'Bitcoin']|  Twitter for iPhone|     false|\n",
      "|Crypto is the future|                null|I will post a lot...|2019-09-28 16:48:12|         625.0|         129|             14|        false|2021-02-10 23:47:32|$BTC A big chance...|['Bitcoin', 'FX',...|             dlvr.it|     false|\n",
      "|       DeSota Wilson|         Atlanta, GA|Biz Consultant, r...|2009-04-26 20:05:09|        8534.0|        7605|           4838|        false|2021-02-10 23:47:13|#Bitcoin institut...|['Bitcoin', 'BTC'...|     Twitter Web App|     false|\n",
      "|     Crypto Signaler|                null|#Crypto #Signaler...|2018-04-08 23:44:11|         587.0|          30|             12|        false|2021-02-10 23:46:39|Signal: $TFUEL\\n#...|['TFUEL', 'ThetaF...| Twitter for Android|     false|\n",
      "|       Crypto Market|                null|Live crypto marke...|2018-09-07 22:44:40|          26.0|          57|            115|        false|2021-02-10 23:46:23|$ADA Sky rocket ?...|['Patience', 'ada...| Twitter for Android|     false|\n",
      "|Crypto M🕶️stache...|               World|Cryptomaniac 24/7...|2011-05-17 18:14:49|         274.0|         773|           6404|        false|2021-02-10 23:46:17|Forget all you kn...|['cryptocurrency'...| Twitter for Android|     false|\n",
      "|         Humayun MHA|            Pakistan|💻 Android App De...|2016-08-18 22:00:24|        1392.0|         780|            960|        false|2021-02-10 23:45:20|$ADA Sky rocket ?...|['Patience', 'ada...| Twitter for Android|     false|\n",
      "|        Alex Jiménez|       Las Vegas, NV|Chief Strategy Of...|2012-04-25 15:26:53|       14469.0|         822|          40097|         true|2021-02-10 23:45:03|#Bitcoin’s Rally ...|         ['Bitcoin']|      Hootsuite Inc.|     false|\n",
      "|              Andrew|                null|$TSLA #Bitcoin $N...|2012-07-16 23:23:58|         560.0|         590|          33782|        false|2021-02-10 23:44:57|The writing is on...|  ['bitcoin', 'BTC']|     Twitter Web App|     false|\n",
      "|     Stefan Gyarmati|     München, Bayern|CEO & PRESIDENT S...|2009-06-01 21:00:46|          62.0|         288|           2656|        false|2021-02-10 23:44:43|#Bitcoin #BTC #AD...|['Bitcoin', 'BTC'...|  Twitter for iPhone|     false|\n",
      "|       DeSota Wilson|         Atlanta, GA|Biz Consultant, r...|2009-04-26 20:05:09|        8534.0|        7605|           4838|        false|2021-02-10 23:44:02|After @Tesla: @Tw...|         ['bitcoin']|     Twitter Web App|     false|\n",
      "|               Forza|                null|Cryptocurrency en...|2019-03-09 15:03:18|         645.0|         487|           1178|        false|2021-02-10 23:44:02|$ASKO has been no...|                null|     Twitter Web App|     false|\n",
      "|           FOMO King|                null|Been through life...|2015-10-29 06:05:35|         168.0|         822|           6919|        false|2021-02-10 23:42:49|Let's go $yfi... ...|['crypto', 'btc',...|     Twitter Web App|     false|\n",
      "|       Adriana Itzel|                null|                null|2021-02-10 23:08:04|           0.0|          19|              0|        false|2021-02-10 23:42:22|Binance is the #1...|                null|     Twitter Web App|     false|\n",
      "|          Hugo Ramos|    Lisbon, Portugal|#bitcoin Entrepre...|2020-09-18 16:50:23|         872.0|         158|           1080|        false|2021-02-10 23:40:48|#BTC/USD 4H. #Bit...|  ['BTC', 'Bitcoin']|              Buffer|     false|\n",
      "|       DeSota Wilson|         Atlanta, GA|Biz Consultant, r...|2009-04-26 20:05:09|        8534.0|        7605|           4838|        false|2021-02-10 23:40:36|The @Grayscale #B...|['Bitcoin', 'digi...|     Twitter Web App|     false|\n",
      "|         100UnitBets|MLB, NFL, NBA, NC...|One bet every day...|2014-12-16 23:27:28|        2019.0|         104|             71|        false|2021-02-10 23:40:21|We accept #Bitcoi...|['Bitcoin', 'Bitc...|     Twitter Web App|     false|\n",
      "|               Majin|                null|Don’t wait  Send ...|2020-12-21 14:14:58|           4.0|           4|             64|        false|2021-02-10 23:39:47|If #XRP can stay ...|['XRP', 'Bitcoin'...|     Twitter Web App|     false|\n",
      "|             Mikcoin|                null|Technical Analyst...|2020-11-26 23:45:46|         104.0|          41|            238|        false|2021-02-10 23:39:26|#BTC #Bitcoin #Et...|['BTC', 'Bitcoin'...|     Twitter Web App|     false|\n",
      "|Dr. ir Johannes D...|     Germany, Europe|Proud Dad ° CEO S...|2015-08-18 13:57:19|       30610.0|        3470|         236638|        false|2021-02-10 23:38:52|🔵 Upfront and Pe...|['CyberSecurity',...|     Twitter Web App|     false|\n",
      "|     NatoShƐƐ 🚀🔴🦂|                null|#BITCOIN \\n21 Mil...|2010-06-18 11:29:12|          93.0|         532|           1151|        false|2021-02-10 23:36:52|Ok Boomer. #bitco...|  ['bitcoin', 'BTC']|     Twitter Web App|     false|\n",
      "| ⛓C🅡ypⓣo Balle🅡⛓ ⓣ|                null|$DOT $LINK $TEL $...|2014-09-14 21:32:25|        1321.0|         350|          29645|        false|2021-02-10 23:36:40|Three of my preci...|                null|     Twitter Web App|     false|\n",
      "|       CappyTrades🍀|                null|Calling out ticke...|2020-10-08 23:24:36|          99.0|          89|           1568|        false|2021-02-10 23:35:27|Holy smokes! $MAR...|  ['BTC', 'Bitcoin']|     Twitter Web App|     false|\n",
      "|        KrakenPrices|                null|Scans Kraken's ma...|2018-05-25 21:11:08|        3210.0|           1|             28|        false|2021-02-10 23:35:12|🔄 Prices update ...|                null|       Kraken prices|     false|\n",
      "|             #Mailey|       Vancouver, BC|Lucky fool making...|2020-11-03 19:10:23|         314.0|         182|           8639|        false|2021-02-10 23:34:58|Free #Mailey Advi...|['Mailey', 'Bitco...|     Twitter Web App|     false|\n",
      "|       DeSota Wilson|         Atlanta, GA|Biz Consultant, r...|2009-04-26 20:05:09|        8534.0|        7605|           4838|        false|2021-02-10 23:34:33|Price analysis 2/...|['BTC', 'ETH', 'A...|     Twitter Web App|     false|\n",
      "|     The Third Coast|                null|Straightforward t...|2020-05-14 22:20:54|         202.0|          28|            659|        false|2021-02-10 23:34:25|Rally got a littl...|['bitcoin', 'Tesla']|     Twitter Web App|     false|\n",
      "|        Mike Sharkey|                null|#Cryptocurrency I...|2009-05-17 15:00:52|         896.0|        2437|           5001|        false|2021-02-10 23:34:04|$TEL everyone... ...|['CGash', 'Telcoi...|  Twitter for iPhone|     false|\n",
      "|    FinTech News Hub|       United States|FinTech News Hub ...|2016-09-29 12:32:04|         348.0|         126|            638|        false|2021-02-10 23:33:55|Our featured arti...|                null|            Paper.li|     false|\n",
      "|      Bitcoin Alert!|               World|Automatically twe...|2017-05-26 16:01:28|        9213.0|           5|             19|        false|2021-02-10 23:33:12|🔼🔼 ₿1 = $45,287...|                null|    Bitcoin Degisti!|     false|\n",
      "|    Nishant Bhardwaj|     Kota, Rajasthan|Philosopher, psyc...|2010-07-01 06:59:21|         662.0|         155|            915|        false|2021-02-10 23:33:00|$CVC. That’s the ...|['Bitcoin', 'BTC'...|  Twitter for iPhone|     false|\n",
      "|        Tonya Barris|                null|                null|2020-12-29 16:55:33|           0.0|          16|              2|        false|2021-02-10 23:32:35|Who want to learn...|['forex', 'forexs...|  Twitter for iPhone|     false|\n",
      "|WSB Crypto Mod 🚀...|                null|If #Wallstreetbet...|2018-01-23 21:49:55|        4309.0|         941|           4839|        false|2021-02-10 23:32:14|Institutions are ...|         ['Bitcoin']|  Twitter for iPhone|     false|\n",
      "|  Langer Dan Returns|Wouldn't You like...|A victim of radic...|2020-11-04 11:26:40|          31.0|          26|           1207|        false|2021-02-10 23:32:12|Me while I'm HODL...|  ['Bitcoin', 'BTC']|     Twitter Web App|     false|\n",
      "+--------------------+--------------------+--------------------+-------------------+--------------+------------+---------------+-------------+-------------------+--------------------+--------------------+--------------------+----------+\n",
      "only showing top 50 rows\n",
      "\n"
     ]
    }
   ],
   "source": [
    "tweets_schema = StructType([\n",
    "    StructField('user_name', StringType(), True),\n",
    "    StructField('user_location', StringType(), True),\n",
    "    StructField('user_description', StringType(), True),\n",
    "    StructField('user_created', StringType(), True),\n",
    "    StructField('user_followers', FloatType(), True),\n",
    "    StructField('user_friends', IntegerType(), True),\n",
    "    StructField('user_favourites', IntegerType(), True),\n",
    "    StructField('user_verified', BooleanType(), True),\n",
    "    StructField('date', StringType(), True),\n",
    "    StructField('text', StringType(), True),\n",
    "    StructField('hashtags', StringType(), True),\n",
    "    StructField('source', StringType(), True),\n",
    "    StructField('is_retweet', BooleanType(), True),\n",
    "])\n",
    "\n",
    "\n",
    "tweets_df = spark.read.csv(\n",
    "    \"./data/tweets.csv\", \n",
    "    header=True,\n",
    "    sep=',',\n",
    "    multiLine=True,\n",
    "    schema=tweets_schema\n",
    "\n",
    ")\n",
    "\n",
    "btc_schema = StructType([\n",
    "StructField('Unix Timestamp', StringType(), True),\n",
    "StructField('Date', StringType(), True),\n",
    "\n",
    "StructField('Symbol', StringType(), True),\n",
    "StructField('Open', FloatType(), True),\n",
    "StructField('High', FloatType(), True),\n",
    "StructField('Low', FloatType(), True),\n",
    "StructField('Close', FloatType(), True),\n",
    "StructField('Volume', FloatType(), True),\n",
    "])\n",
    "\n",
    "btc_df = spark.read.csv(\n",
    "    \"./data/bitcoinvalue.csv\",\n",
    "    sep=',',\n",
    "    # header=True,\n",
    "    multiLine=True,\n",
    "    schema=btc_schema)\n",
    "\n",
    "tweets_df.show(50)"
   ]
  },
  {
   "cell_type": "markdown",
   "source": [
    "## Bitcoin"
   ],
   "metadata": {
    "collapsed": false
   }
  },
  {
   "cell_type": "code",
   "execution_count": 7,
   "outputs": [
    {
     "name": "stdout",
     "output_type": "stream",
     "text": [
      "+-------+--------------------+\n",
      "|summary|      unix Timestamp|\n",
      "+-------+--------------------+\n",
      "|  count|              658066|\n",
      "|   mean|1.598615073055093...|\n",
      "| stddev|1.188578608457691E10|\n",
      "|    min|         1.57784E+12|\n",
      "|    max|      Unix Timestamp|\n",
      "+-------+--------------------+\n",
      "\n"
     ]
    }
   ],
   "source": [
    "btc_df.describe([\"unix Timestamp\"]).show()"
   ],
   "metadata": {
    "collapsed": false,
    "pycharm": {
     "name": "#%%\n"
    }
   }
  },
  {
   "cell_type": "markdown",
   "source": [
    "##### Date"
   ],
   "metadata": {
    "collapsed": false
   }
  },
  {
   "cell_type": "code",
   "execution_count": 8,
   "outputs": [
    {
     "name": "stdout",
     "output_type": "stream",
     "text": [
      "+-------+-------------+\n",
      "|summary|         Date|\n",
      "+-------+-------------+\n",
      "|  count|       658066|\n",
      "|   mean|         null|\n",
      "| stddev|         null|\n",
      "|    min|1/1/2020 0:00|\n",
      "|    max|         Date|\n",
      "+-------+-------------+\n",
      "\n"
     ]
    }
   ],
   "source": [
    "btc_df.describe([\"Date\"]).show()"
   ],
   "metadata": {
    "collapsed": false,
    "pycharm": {
     "name": "#%%\n"
    }
   }
  },
  {
   "cell_type": "markdown",
   "source": [
    "##### Symbol\n",
    "We're going to drop this one. As BTC will be the only currency in this project for now."
   ],
   "metadata": {
    "collapsed": false
   }
  },
  {
   "cell_type": "code",
   "execution_count": 9,
   "outputs": [
    {
     "data": {
      "text/plain": "DataFrame[Unix Timestamp: string, Date: string, Open: float, High: float, Low: float, Close: float, Volume: float]"
     },
     "execution_count": 9,
     "metadata": {},
     "output_type": "execute_result"
    }
   ],
   "source": [
    "\n",
    "\n",
    "tweets_vol = tweets_df.groupBy('date').count()\n",
    "fig, ax = plt.subplots()\n",
    "\n",
    "ax.plot(tweets_vol.index,tweets_vol,label='Total Tweets')\n",
    "ax.set_yscale('log')\n",
    "ax.tick_params(axis='y')\n",
    "\n",
    "lines, labels = ax.get_legend_handles_labels()\n",
    "\n",
    "# plt.figure(figsize=(25, 10))\n",
    "# plt.plot(x[0:50], y[0:50], label='# tweets / user')\n",
    "#\n",
    "# plt.xlabel('username')\n",
    "# plt.ylabel('# tweets')\n",
    "# plt.title('# tweets / user')\n",
    "# plt.legend()\n",
    "\n",
    "ax.legend(lines, labels, loc=0)\n",
    "plt.title(\"Total Tweets / Date\")\n",
    "\n",
    "plt.show()\n",
    "\n",
    "btc_df.drop(\"symbol\")"
   ],
   "metadata": {
    "collapsed": false,
    "pycharm": {
     "name": "#%%\n"
    }
   }
  },
  {
   "cell_type": "markdown",
   "source": [
    "##### Open"
   ],
   "metadata": {
    "collapsed": false
   }
  },
  {
   "cell_type": "code",
   "execution_count": 10,
   "outputs": [
    {
     "name": "stdout",
     "output_type": "stream",
     "text": [
      "+-------+------------------+\n",
      "|summary|              Open|\n",
      "+-------+------------------+\n",
      "|  count|            658065|\n",
      "|   mean| 19816.05686497067|\n",
      "| stddev|16737.625581943135|\n",
      "|    min|           3935.29|\n",
      "|    max|           64890.0|\n",
      "+-------+------------------+\n",
      "\n"
     ]
    }
   ],
   "source": [
    "btc_df.describe([\"Open\"]).show()"
   ],
   "metadata": {
    "collapsed": false,
    "pycharm": {
     "name": "#%%\n"
    }
   }
  },
  {
   "cell_type": "markdown",
   "source": [
    "##### High"
   ],
   "metadata": {
    "collapsed": false
   }
  },
  {
   "cell_type": "code",
   "execution_count": 11,
   "outputs": [
    {
     "name": "stdout",
     "output_type": "stream",
     "text": [
      "+-------+------------------+\n",
      "|summary|              High|\n",
      "+-------+------------------+\n",
      "|  count|            658065|\n",
      "|   mean|19828.754550129186|\n",
      "| stddev| 16750.78659856924|\n",
      "|    min|           3939.26|\n",
      "|    max|           64900.0|\n",
      "+-------+------------------+\n",
      "\n"
     ]
    }
   ],
   "source": [
    "btc_df.describe([\"High\"]).show()"
   ],
   "metadata": {
    "collapsed": false,
    "pycharm": {
     "name": "#%%\n"
    }
   }
  },
  {
   "cell_type": "markdown",
   "source": [
    "##### Low"
   ],
   "metadata": {
    "collapsed": false
   }
  },
  {
   "cell_type": "code",
   "source": [
    "btc_df.describe([\"Low\"]).show()"
   ],
   "metadata": {
    "collapsed": false,
    "pycharm": {
     "name": "#%%\n"
    }
   },
   "execution_count": 12,
   "outputs": [
    {
     "name": "stdout",
     "output_type": "stream",
     "text": [
      "+-------+-----------------+\n",
      "|summary|              Low|\n",
      "+-------+-----------------+\n",
      "|  count|           658065|\n",
      "|   mean|19803.07899750394|\n",
      "| stddev|16723.50994893312|\n",
      "|    min|          3901.25|\n",
      "|    max|         64775.62|\n",
      "+-------+-----------------+\n",
      "\n"
     ]
    }
   ]
  },
  {
   "cell_type": "markdown",
   "source": [
    "##### Close"
   ],
   "metadata": {
    "collapsed": false
   }
  },
  {
   "cell_type": "code",
   "execution_count": 13,
   "outputs": [
    {
     "name": "stdout",
     "output_type": "stream",
     "text": [
      "+-------+------------------+\n",
      "|summary|             Close|\n",
      "+-------+------------------+\n",
      "|  count|            658065|\n",
      "|   mean|19816.127877271825|\n",
      "| stddev| 16737.67769446023|\n",
      "|    min|           3935.29|\n",
      "|    max|           64890.0|\n",
      "+-------+------------------+\n",
      "\n"
     ]
    }
   ],
   "source": [
    "btc_df.describe([\"Close\"]).show()"
   ],
   "metadata": {
    "collapsed": false,
    "pycharm": {
     "name": "#%%\n"
    }
   }
  },
  {
   "cell_type": "markdown",
   "source": [
    "##### Volume"
   ],
   "metadata": {
    "collapsed": false
   }
  },
  {
   "cell_type": "code",
   "source": [
    "btc_df.describe([\"Volume\"]).show()"
   ],
   "metadata": {
    "collapsed": false,
    "pycharm": {
     "name": "#%%\n"
    }
   },
   "execution_count": 14,
   "outputs": [
    {
     "name": "stdout",
     "output_type": "stream",
     "text": [
      "+-------+------------------+\n",
      "|summary|            Volume|\n",
      "+-------+------------------+\n",
      "|  count|            658065|\n",
      "|   mean|1.5524923808661875|\n",
      "| stddev| 6.235547587336759|\n",
      "|    min|               0.0|\n",
      "|    max|           1043.58|\n",
      "+-------+------------------+\n",
      "\n"
     ]
    }
   ]
  },
  {
   "cell_type": "markdown",
   "source": [
    "## TWITTER"
   ],
   "metadata": {
    "collapsed": false
   }
  },
  {
   "cell_type": "code",
   "source": [
    "tweets_df.count()"
   ],
   "metadata": {
    "collapsed": false,
    "pycharm": {
     "name": "#%%\n"
    }
   },
   "execution_count": 15,
   "outputs": [
    {
     "data": {
      "text/plain": "1272097"
     },
     "execution_count": 15,
     "metadata": {},
     "output_type": "execute_result"
    }
   ]
  },
  {
   "cell_type": "markdown",
   "source": [
    "##### user_name\n",
    "Should be dropped"
   ],
   "metadata": {
    "collapsed": false
   }
  },
  {
   "cell_type": "code",
   "source": [
    "tweets_df.drop(\"user_name\")"
   ],
   "metadata": {
    "collapsed": false,
    "pycharm": {
     "name": "#%%\n"
    }
   },
   "execution_count": 16,
   "outputs": [
    {
     "data": {
      "text/plain": "DataFrame[user_location: string, user_description: string, user_created: string, user_followers: float, user_friends: int, user_favourites: int, user_verified: boolean, date: string, text: string, hashtags: string, source: string, is_retweet: boolean]"
     },
     "execution_count": 16,
     "metadata": {},
     "output_type": "execute_result"
    }
   ]
  },
  {
   "cell_type": "markdown",
   "source": [
    "##### user_location"
   ],
   "metadata": {
    "collapsed": false
   }
  },
  {
   "cell_type": "code",
   "source": [
    "tweets_df.select(F.countDistinct(\"user_location\")).show()\n",
    "tweets_df.select([F.count(F.when(col(\"user_location\").isNull(), \"user_location\"))]).show()"
   ],
   "metadata": {
    "collapsed": false,
    "pycharm": {
     "name": "#%%\n"
    }
   },
   "execution_count": 17,
   "outputs": [
    {
     "name": "stdout",
     "output_type": "stream",
     "text": [
      "+-----------------------------+\n",
      "|count(DISTINCT user_location)|\n",
      "+-----------------------------+\n",
      "|                        49995|\n",
      "+-----------------------------+\n",
      "\n",
      "+---------------------------------------------------------------+\n",
      "|count(CASE WHEN (user_location IS NULL) THEN user_location END)|\n",
      "+---------------------------------------------------------------+\n",
      "|                                                         604387|\n",
      "+---------------------------------------------------------------+\n",
      "\n"
     ]
    }
   ]
  },
  {
   "cell_type": "markdown",
   "source": [
    "##### user_description\n",
    "\n",
    "Should be dropped"
   ],
   "metadata": {
    "collapsed": false
   }
  },
  {
   "cell_type": "code",
   "execution_count": 18,
   "outputs": [
    {
     "data": {
      "text/plain": "DataFrame[user_name: string, user_location: string, user_created: string, user_followers: float, user_friends: int, user_favourites: int, user_verified: boolean, date: string, text: string, hashtags: string, source: string, is_retweet: boolean]"
     },
     "execution_count": 18,
     "metadata": {},
     "output_type": "execute_result"
    }
   ],
   "source": [
    "tweets_df.drop(\"user_description\")"
   ],
   "metadata": {
    "collapsed": false,
    "pycharm": {
     "name": "#%%\n"
    }
   }
  },
  {
   "cell_type": "markdown",
   "source": [
    "##### user_created"
   ],
   "metadata": {
    "collapsed": false
   }
  },
  {
   "cell_type": "code",
   "execution_count": 19,
   "outputs": [
    {
     "name": "stdout",
     "output_type": "stream",
     "text": [
      "+-------+--------------------+\n",
      "|summary|        user_created|\n",
      "+-------+--------------------+\n",
      "|  count|             1248202|\n",
      "|   mean|   2139.339964370546|\n",
      "| stddev|   7408.745470877948|\n",
      "|    min|                    |\n",
      "|    max|🤓EWI CEWA-M #Ell...|\n",
      "+-------+--------------------+\n",
      "\n",
      "+-------------------------------------------------------------+\n",
      "|count(CASE WHEN (user_created IS NULL) THEN user_created END)|\n",
      "+-------------------------------------------------------------+\n",
      "|                                                        23895|\n",
      "+-------------------------------------------------------------+\n",
      "\n"
     ]
    }
   ],
   "source": [
    "tweets_df.describe([\"user_created\"]).show()\n",
    "\n",
    "tweets_df.select([F.count(F.when(col(\"user_created\").isNull(), \"user_created\"))]).show()"
   ],
   "metadata": {
    "collapsed": false,
    "pycharm": {
     "name": "#%%\n"
    }
   }
  },
  {
   "cell_type": "markdown",
   "source": [
    "##### user_followers"
   ],
   "metadata": {
    "collapsed": false
   }
  },
  {
   "cell_type": "code",
   "source": [
    "tweets_df.select([F.count(F.when(col(\"user_followers\").isNull(), \"user_followers\"))]).show()"
   ],
   "metadata": {
    "collapsed": false,
    "pycharm": {
     "name": "#%%\n"
    }
   },
   "execution_count": 20,
   "outputs": [
    {
     "name": "stdout",
     "output_type": "stream",
     "text": [
      "+-----------------------------------------------------------------+\n",
      "|count(CASE WHEN (user_followers IS NULL) THEN user_followers END)|\n",
      "+-----------------------------------------------------------------+\n",
      "|                                                            41104|\n",
      "+-----------------------------------------------------------------+\n",
      "\n"
     ]
    }
   ]
  },
  {
   "cell_type": "markdown",
   "source": [
    "##### user_followers"
   ],
   "metadata": {
    "collapsed": false
   }
  },
  {
   "cell_type": "code",
   "source": [
    "tweets_df.select([F.count(F.when(col(\"user_followers\").isNull(), \"user_followers\"))]).show()"
   ],
   "metadata": {
    "collapsed": false,
    "pycharm": {
     "name": "#%%\n"
    }
   },
   "execution_count": 21,
   "outputs": [
    {
     "name": "stdout",
     "output_type": "stream",
     "text": [
      "+-----------------------------------------------------------------+\n",
      "|count(CASE WHEN (user_followers IS NULL) THEN user_followers END)|\n",
      "+-----------------------------------------------------------------+\n",
      "|                                                            41104|\n",
      "+-----------------------------------------------------------------+\n",
      "\n"
     ]
    }
   ]
  },
  {
   "cell_type": "markdown",
   "source": [
    "##### user_friends"
   ],
   "metadata": {
    "collapsed": false
   }
  },
  {
   "cell_type": "code",
   "source": [
    "tweets_df.select([F.count(F.when(col(\"user_friends\").isNull(), \"user_friends\"))]).show()"
   ],
   "metadata": {
    "collapsed": false,
    "pycharm": {
     "name": "#%%\n"
    }
   },
   "execution_count": 22,
   "outputs": [
    {
     "name": "stdout",
     "output_type": "stream",
     "text": [
      "+-------------------------------------------------------------+\n",
      "|count(CASE WHEN (user_friends IS NULL) THEN user_friends END)|\n",
      "+-------------------------------------------------------------+\n",
      "|                                                      1012559|\n",
      "+-------------------------------------------------------------+\n",
      "\n"
     ]
    }
   ]
  },
  {
   "cell_type": "markdown",
   "source": [
    "##### user_favourites"
   ],
   "metadata": {
    "collapsed": false
   }
  },
  {
   "cell_type": "code",
   "source": [
    "tweets_df.select([F.count(F.when(col(\"user_favourites\").isNull(), \"user_favourites\"))]).show()"
   ],
   "metadata": {
    "collapsed": false,
    "pycharm": {
     "name": "#%%\n"
    }
   },
   "execution_count": 23,
   "outputs": [
    {
     "name": "stdout",
     "output_type": "stream",
     "text": [
      "+-------------------------------------------------------------------+\n",
      "|count(CASE WHEN (user_favourites IS NULL) THEN user_favourites END)|\n",
      "+-------------------------------------------------------------------+\n",
      "|                                                            1012355|\n",
      "+-------------------------------------------------------------------+\n",
      "\n"
     ]
    }
   ]
  },
  {
   "cell_type": "markdown",
   "source": [
    "##### user_verified"
   ],
   "metadata": {
    "collapsed": false
   }
  },
  {
   "cell_type": "code",
   "source": [
    "tweets_df.select(F.count(F.when(col(\"user_verified\").isNull(), \"user_verified\")),\n",
    "                 F.count(F.when(col(\"user_verified\") == \"false\", \"user_verified\")),\n",
    "                 F.count(F.when(col(\"user_verified\") == \"true\", \"user_verified\"))).show()"
   ],
   "metadata": {
    "collapsed": false,
    "pycharm": {
     "name": "#%%\n"
    }
   },
   "execution_count": 24,
   "outputs": [
    {
     "name": "stdout",
     "output_type": "stream",
     "text": [
      "+---------------------------------------------------------------+---------------------------------------------------------------+--------------------------------------------------------------+\n",
      "|count(CASE WHEN (user_verified IS NULL) THEN user_verified END)|count(CASE WHEN (user_verified = false) THEN user_verified END)|count(CASE WHEN (user_verified = true) THEN user_verified END)|\n",
      "+---------------------------------------------------------------+---------------------------------------------------------------+--------------------------------------------------------------+\n",
      "|                                                          44446|                                                        1217748|                                                          9903|\n",
      "+---------------------------------------------------------------+---------------------------------------------------------------+--------------------------------------------------------------+\n",
      "\n"
     ]
    }
   ]
  },
  {
   "cell_type": "markdown",
   "source": [
    "##### date"
   ],
   "metadata": {
    "collapsed": false
   }
  },
  {
   "cell_type": "code",
   "source": [
    "tweets_df.select(F.countDistinct(\"date\")).show()\n",
    "tweets_df.select([F.count(F.when(col(\"date\").isNull(), \"date\"))]).show()"
   ],
   "metadata": {
    "collapsed": false,
    "pycharm": {
     "name": "#%%\n"
    }
   },
   "execution_count": 25,
   "outputs": [
    {
     "name": "stdout",
     "output_type": "stream",
     "text": [
      "+--------------------+\n",
      "|count(DISTINCT date)|\n",
      "+--------------------+\n",
      "|              999096|\n",
      "+--------------------+\n",
      "\n",
      "+---------------------------------------------+\n",
      "|count(CASE WHEN (date IS NULL) THEN date END)|\n",
      "+---------------------------------------------+\n",
      "|                                        39418|\n",
      "+---------------------------------------------+\n",
      "\n"
     ]
    }
   ]
  },
  {
   "cell_type": "markdown",
   "source": [
    "##### text"
   ],
   "metadata": {
    "collapsed": false
   }
  },
  {
   "cell_type": "code",
   "source": [
    "tweets_df.select(F.count(F.when(col(\"text\").isNull(), \"text\"))).show()"
   ],
   "metadata": {
    "collapsed": false,
    "pycharm": {
     "name": "#%%\n"
    }
   },
   "execution_count": 26,
   "outputs": [
    {
     "name": "stdout",
     "output_type": "stream",
     "text": [
      "+---------------------------------------------+\n",
      "|count(CASE WHEN (text IS NULL) THEN text END)|\n",
      "+---------------------------------------------+\n",
      "|                                        39427|\n",
      "+---------------------------------------------+\n",
      "\n"
     ]
    }
   ]
  },
  {
   "cell_type": "markdown",
   "source": [
    "##### hashtags"
   ],
   "metadata": {
    "collapsed": false
   }
  },
  {
   "cell_type": "code",
   "source": [
    "tweets_df.select(F.countDistinct(\"hashtags\")).show()\n",
    "tweets_df.select([F.count(F.when(col(\"hashtags\").isNull(), \"hashtags\"))]).show()"
   ],
   "metadata": {
    "collapsed": false,
    "pycharm": {
     "name": "#%%\n"
    }
   },
   "execution_count": 27,
   "outputs": [
    {
     "name": "stdout",
     "output_type": "stream",
     "text": [
      "+------------------------+\n",
      "|count(DISTINCT hashtags)|\n",
      "+------------------------+\n",
      "|                  292657|\n",
      "+------------------------+\n",
      "\n",
      "+-----------------------------------------------------+\n",
      "|count(CASE WHEN (hashtags IS NULL) THEN hashtags END)|\n",
      "+-----------------------------------------------------+\n",
      "|                                                67129|\n",
      "+-----------------------------------------------------+\n",
      "\n"
     ]
    }
   ]
  },
  {
   "cell_type": "markdown",
   "source": [
    "##### source"
   ],
   "metadata": {
    "collapsed": false
   }
  },
  {
   "cell_type": "code",
   "source": [
    "tweets_df.select(F.countDistinct(\"source\")).show()\n",
    "tweets_df.select([F.count(F.when(col(\"source\").isNull(), \"source\"))]).show()"
   ],
   "metadata": {
    "collapsed": false,
    "pycharm": {
     "name": "#%%\n"
    }
   },
   "execution_count": 28,
   "outputs": [
    {
     "name": "stdout",
     "output_type": "stream",
     "text": [
      "+----------------------+\n",
      "|count(DISTINCT source)|\n",
      "+----------------------+\n",
      "|                  4738|\n",
      "+----------------------+\n",
      "\n",
      "+-------------------------------------------------+\n",
      "|count(CASE WHEN (source IS NULL) THEN source END)|\n",
      "+-------------------------------------------------+\n",
      "|                                            59410|\n",
      "+-------------------------------------------------+\n",
      "\n"
     ]
    }
   ]
  },
  {
   "cell_type": "markdown",
   "source": [
    "##### is_retweet"
   ],
   "metadata": {
    "collapsed": false
   }
  },
  {
   "cell_type": "code",
   "source": [
    "tweets_df.select(F.count(F.when(col(\"is_retweet\").isNull(), \"is_retweet\")).alias(\"null values\"),\n",
    "                 F.count(F.when(col(\"is_retweet\") == \"false\", \"is_retweet\")),\n",
    "                 F.count(F.when(col(\"is_retweet\") == \"true\", \"is_retweet\"))).show()"
   ],
   "metadata": {
    "collapsed": false,
    "pycharm": {
     "name": "#%%\n"
    }
   },
   "execution_count": 29,
   "outputs": [
    {
     "name": "stdout",
     "output_type": "stream",
     "text": [
      "+-----------+---------------------------------------------------------+--------------------------------------------------------+\n",
      "|null values|count(CASE WHEN (is_retweet = false) THEN is_retweet END)|count(CASE WHEN (is_retweet = true) THEN is_retweet END)|\n",
      "+-----------+---------------------------------------------------------+--------------------------------------------------------+\n",
      "|      62182|                                                  1209915|                                                       0|\n",
      "+-----------+---------------------------------------------------------+--------------------------------------------------------+\n",
      "\n"
     ]
    }
   ]
  },
  {
   "cell_type": "markdown",
   "source": [
    "## Preparing Data    Date|\n",
    "+-------+-------------+"
   ],
   "metadata": {
    "collapsed": false
   }
  },
  {
   "cell_type": "code",
   "execution_count": 30,
   "outputs": [],
   "source": [
    "from pyspark.sql.functions import udf\n",
    "\n",
    "def conv_to_int(val):\n",
    "    if isinstance(val, str):\n",
    "        return 0\n",
    "    else:\n",
    "        return float(val)\n",
    "\n",
    "conv_to_int_udf = udf(lambda x : conv_to_int(x), IntegerType())\n",
    "\n",
    "tweets_df = tweets_df.withColumn(\"user_followers\", conv_to_int_udf(col(\"user_followers\")))\\\n",
    "    .withColumn(\"user_friends\", conv_to_int_udf(col(\"user_friends\")))\\\n",
    "    .withColumn(\"user_favourites\", conv_to_int_udf(col(\"user_favourites\")))    Date|\n",
    "+-------+-------------+"
   ],
   "metadata": {
    "collapsed": false,
    "pycharm": {
     "name": "#%%\n"
    }
   }
  },
  {
   "cell_type": "markdown",
   "source": [
    "### Text cleaning"
   ],
   "metadata": {
    "collapsed": false
   }
  },
  {
   "cell_type": "code",
   "execution_count": 31,
   "outputs": [
    {
     "data": {
      "text/plain": "DataFrame[user_name: string, user_location: string, user_description: string, user_created: string, user_followers: int, user_friends: int, user_favourites: int, user_verified: boolean, date: string, text: string, hashtags: string, source: string, is_retweet: boolean]"
     },
     "execution_count": 31,
     "metadata": {},
     "output_type": "execute_result"
    }
   ],
   "source": [
    "def clean_text(text):\n",
    "    if(isinstance(text, str)):\n",
    "        text = text.replace(\"#\",\"\")\n",
    "        text = re.sub('\\\\n', '', text)\n",
    "        text = re.sub('https:\\/\\/\\S+', '', text)\n",
    "        return text\n",
    "    else:\n",
    "        return \"\"\n",
    "\n",
    "clean_text_udf = udf(lambda x : clean_text(x), StringType())\n",
    "\n",
    "tweets_df.withColumn(\"text\", clean_text_udf(col(\"text\")))"
   ],
   "metadata": {
    "collapsed": false,
    "pycharm": {
     "name": "#%%\n"
    }
   }
  },
  {
   "cell_type": "markdown",
   "source": [
    "### Generating impact score"
   ],
   "metadata": {
    "collapsed": false
   }
  },
  {
   "cell_type": "code",
   "execution_count": 32,
   "outputs": [
    {
     "data": {
      "text/plain": "DataFrame[user_name: string, user_location: string, user_description: string, user_created: string, user_followers: int, user_friends: int, user_favourites: int, user_verified: boolean, date: string, text: string, hashtags: string, source: string, is_retweet: boolean, impact_score: float]"
     },
     "execution_count": 32,
     "metadata": {},
     "output_type": "execute_result"
    }
   ],
   "source": [
    "from pyspark.sql.functions import struct\n",
    "\n",
    "def generate_impact_score(tweet):\n",
    "    coef_verified = 1.1 if tweet.user_verified else 1\n",
    "    coef_hashtags = 1+(tweet.hashtags_len/20)\n",
    "    return ((tweet.user_followers + (tweet.user_friends/4))*coef_verified*coef_hashtags)/100\n",
    "\n",
    "generate_impact_score_udf = udf(lambda x : generate_impact_score(x), FloatType())\n",
    "\n",
    "tweets_df.withColumn(\"impact_score\", generate_impact_score_udf(struct([tweets_df[x] for x in tweets_df.columns])))"
   ],
   "metadata": {
    "collapsed": false,
    "pycharm": {
     "name": "#%%\n"
    }
   }
  },
  {
   "cell_type": "markdown",
   "source": [
    "## Data visualisation"
   ],
   "metadata": {
    "collapsed": false
   }
  },
  {
   "cell_type": "markdown",
   "source": [
    "### Twitter"
   ],
   "metadata": {
    "collapsed": false
   }
  },
  {
   "cell_type": "code",
   "execution_count": 36,
   "metadata": {},
   "outputs": [
    {
     "name": "stdout",
     "output_type": "stream",
     "text": [
      "+--------------------+-----+\n",
      "|                date|count|\n",
      "+--------------------+-----+\n",
      "|                null|39418|\n",
      "|               False| 1033|\n",
      "|['crypto', 'bitco...|  751|\n",
      "|         ['Bitcoin']|  503|\n",
      "|         ['bitcoin']|  228|\n",
      "| 2021-04-06 01:20:48|   83|\n",
      "| 2021-06-22 20:19:20|   73|\n",
      "|             ['BTC']|   72|\n",
      "|['Trades', 'dogec...|   70|\n",
      "| 2021-04-07 09:14:56|   64|\n",
      "|  ['Bitcoin', 'BTC']|   57|\n",
      "|['Trades', 'ether...|   44|\n",
      "|['horseracing', '...|   41|\n",
      "| 2021-04-10 04:59:13|   38|\n",
      "| 2021-04-06 14:23:06|   37|\n",
      "|['dogecoin', 'Bit...|   36|\n",
      "| 2021-04-06 00:01:16|   34|\n",
      "| 2021-04-07 11:28:32|   33|\n",
      "|              2287.0|   32|\n",
      "|               264.0|   30|\n",
      "+--------------------+-----+\n",
      "only showing top 20 rows\n",
      "\n"
     ]
    },
    {
     "data": {
      "text/plain": "<matplotlib.legend.Legend at 0x7f217b1157e0>"
     },
     "execution_count": 36,
     "metadata": {},
     "output_type": "execute_result"
    },
    {
     "data": {
      "text/plain": "<Figure size 1800x1080 with 1 Axes>",
      "image/png": "[encoded data removed]"
     },
     "metadata": {
      "needs_background": "light"
     },
     "output_type": "display_data"
    }
   ],
   "source": [
    "%matplotlib inline\n",
    "\n",
    "tweets_volume = tweets_df.groupby(\"date\").count().sort(desc(\"count\"))\n",
    "tweets_volume.show()\n",
    "\n",
    "\n",
    "n = 10\n",
    "x_rows = tweets_volume.limit(n).select(\"date\").collect()\n",
    "x = list(map(lambda r : str(r['date']), x_rows))\n",
    "\n",
    "y_rows = tweets_volume.limit(n).select(\"count\").collect()\n",
    "y = list(map(lambda r : int(r['count']), y_rows))\n",
    "\n",
    "rc('figure', figsize=(25, 15))\n",
    "fig, ax = plt.subplots()\n",
    "ax.plot(x, y,\n",
    "        label='tweets per user')\n",
    "\n",
    "ax.set_xlabel('username')\n",
    "ax.set_ylabel('# tweets')\n",
    "ax.legend()"
   ]
  },
  {
   "cell_type": "markdown",
   "source": [
    "### Tweets / user"
   ],
   "metadata": {
    "collapsed": false
   }
  },
  {
   "cell_type": "code",
   "execution_count": 37,
   "outputs": [
    {
     "data": {
      "text/plain": "<matplotlib.legend.Legend at 0x7f217b198610>"
     },
     "execution_count": 37,
     "metadata": {},
     "output_type": "execute_result"
    },
    {
     "data": {
      "text/plain": "<Figure size 1800x1080 with 1 Axes>",
      "image/png": "[encoded data removed]"
     },
     "metadata": {
      "needs_background": "light"
     },
     "output_type": "display_data"
    }
   ],
   "source": [
    "%matplotlib inline\n",
    "\n",
    "user_volume = tweets_df.groupby(\"user_name\").count().sort(desc(\"count\"))\n",
    "\n",
    "n = 10\n",
    "x_rows = user_volume.limit(n).select(\"user_name\").collect()\n",
    "x = list(map(lambda r : str(r['user_name']), x_rows))\n",
    "\n",
    "y_rows = user_volume.limit(n).select(\"count\").collect()\n",
    "y = list(map(lambda r : int(r['count']), y_rows))\n",
    "\n",
    "rc('figure', figsize=(25, 15))\n",
    "fig, ax = plt.subplots()\n",
    "ax.plot(x, y,\n",
    "        label='tweets per user')\n",
    "\n",
    "ax.set_xlabel('username')\n",
    "ax.set_ylabel('# tweets')\n",
    "ax.legend()"
   ],
   "metadata": {
    "collapsed": false,
    "pycharm": {
     "name": "#%%\n"
    }
   }
  },
  {
   "cell_type": "markdown",
   "source": [
    "### Bitcoin Value"
   ],
   "metadata": {
    "collapsed": false
   }
  },
  {
   "cell_type": "code",
   "execution_count": 32,
   "metadata": {},
   "outputs": [],
   "source": [
    "# fig, ax = plt.subplots()\n",
    "# ax.plot(btc_value_df['Date'],btc_value_df['Open'],label='Bitcoin Value')\n",
    "# ax.tick_params(axis='y')\n",
    "#\n",
    "# lines, labels = ax.get_legend_handles_labels()\n",
    "#\n",
    "# ax.legend(lines, labels)\n",
    "# plt.title(\"Bitcoin Value\")\n",
    "#\n",
    "# plt.show()"
   ]
  },
  {
   "cell_type": "code",
   "execution_count": 33,
   "metadata": {},
   "outputs": [
    {
     "name": "stdout",
     "output_type": "stream",
     "text": [
      "+--------------------+------+\n",
      "|       user_location| count|\n",
      "+--------------------+------+\n",
      "|                null|604387|\n",
      "|       United States| 14502|\n",
      "|        Bay Area, CA| 12461|\n",
      "|     London, England| 10635|\n",
      "|              Global| 10532|\n",
      "|           Australia|  8606|\n",
      "|           Worldwide|  7503|\n",
      "|               India|  7007|\n",
      "|          Blockchain|  6944|\n",
      "|      United Kingdom|  6348|\n",
      "|                Moon|  6084|\n",
      "|              Canada|  6068|\n",
      "|Matter Doesn't Ma...|  5824|\n",
      "|               Earth|  5252|\n",
      "|       New York, USA|  5229|\n",
      "|                 USA|  5193|\n",
      "|     Los Angeles, CA|  4492|\n",
      "|            Internet|  4457|\n",
      "|                Mars|  4440|\n",
      "|England, United K...|  4111|\n",
      "+--------------------+------+\n",
      "only showing top 20 rows\n",
      "\n"
     ]
    }
   ],
   "source": [
    "df_location = tweets_df.groupBy('user_location').count().sort(col(\"count\").desc()).show()"
   ]
  }
 ],
 "metadata": {
  "interpreter": {
   "hash": "916dbcbb3f70747c44a77c7bcd40155683ae19c65e1c03b4aa3499c5328201f1"
  },
  "kernelspec": {
   "display_name": "Python 3 (ipykernel)",
   "language": "python",
   "name": "python3"
  },
  "language_info": {
   "codemirror_mode": {
    "name": "ipython",
    "version": 3
   },
   "file_extension": ".py",
   "mimetype": "text/x-python",
   "name": "python",
   "nbconvert_exporter": "python",
   "pygments_lexer": "ipython3",
   "version": "3.9.5"
  }
 },
 "nbformat": 4,
 "nbformat_minor": 2
}