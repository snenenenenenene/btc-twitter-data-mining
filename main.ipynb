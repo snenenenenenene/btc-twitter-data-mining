{
 "cells": [
  {
   "cell_type": "markdown",
   "metadata": {},
   "source": [
    "# Bitcoin & Twitter"
   ]
  },
  {
   "cell_type": "code",
   "execution_count": 1,
   "metadata": {},
   "outputs": [
    {
     "name": "stderr",
     "output_type": "stream",
     "text": [
      "21/10/23 00:35:48 WARN Utils: Your hostname, pop-os resolves to a loopback address: 127.0.1.1; using 192.168.1.6 instead (on interface wlp59s0)\n",
      "21/10/23 00:35:48 WARN Utils: Set SPARK_LOCAL_IP if you need to bind to another address\n",
      "WARNING: An illegal reflective access operation has occurred\n",
      "WARNING: Illegal reflective access by org.apache.spark.unsafe.Platform (file:/opt/spark/jars/spark-unsafe_2.12-3.1.1.jar) to constructor java.nio.DirectByteBuffer(long,int)\n",
      "WARNING: Please consider reporting this to the maintainers of org.apache.spark.unsafe.Platform\n",
      "WARNING: Use --illegal-access=warn to enable warnings of further illegal reflective access operations\n",
      "WARNING: All illegal access operations will be denied in a future release\n",
      "21/10/23 00:35:49 WARN NativeCodeLoader: Unable to load native-hadoop library for your platform... using builtin-java classes where applicable\n",
      "Using Spark's default log4j profile: org/apache/spark/log4j-defaults.properties\n",
      "Setting default log level to \"WARN\".\n",
      "To adjust logging level use sc.setLogLevel(newLevel). For SparkR, use setLogLevel(newLevel).\n"
     ]
    }
   ],
   "source": [
    "from pyspark import SparkContext\n",
    "from pyspark.sql import SparkSession\n",
    "from pyspark.sql import SQLContext\n",
    "from pyspark.sql.types import *\n",
    "from datetime import datetime\n",
    "from pyspark.sql import *\n",
    "from pyspark.sql.functions import col\n",
    "from pyspark.sql import functions as F\n",
    "\n",
    "\n",
    "sc = SparkContext(\"local\").getOrCreate()\n",
    "sqlContext = SQLContext(sc)\n",
    "spark = SparkSession(sc)"
   ]
  },
  {
   "cell_type": "code",
   "execution_count": null,
   "metadata": {},
   "outputs": [],
   "source": [
    "#BITCOIN\n",
    "\n",
    "# Unix Timestamp - Date represented as epoc value\n",
    "# Date - date and time when the data point was collected\n",
    "# Symbol - Symbol of the currency\n",
    "# Open - Open value of the currency\n",
    "# High - Highest value of currency in the given minute\n",
    "# Low - Lowest value of currency in the given minute\n",
    "# Close - Close value of the currency in the given minute\n",
    "# Volume - Volume of the currency transacted in the given minute.\n",
    "\n",
    "# TWITTER\n",
    "\n",
    "# user_name\tThe name of the user, as they’ve defined it.\n",
    "# user_location\tThe user-defined location for this account’s profile.\n",
    "# user_description\tThe user-defined UTF-8 string describing their account.\n",
    "# user_created\tTime and date, when the account was created.\n",
    "# user_followers\tThe number of followers an account currently has.\n",
    "# user_friends\tThe number of friends a account currently has.\n",
    "# user_favourites\tThe number of favorites a account currently has\n",
    "# user_verified\tWhen true, indicates that the user has a verified account\n",
    "# date\tUTC time and date when the Tweet was created\n",
    "# text\tThe actual UTF-8 text of the Tweet\n",
    "# hashtags\tAll the other hashtags posted in the tweet along with #Bitcoin & #btc\n",
    "# source\tUtility used to post the Tweet, Tweets from the Twitter website have a source value - web\n",
    "# is_retweet\tIndicates whether this Tweet has been Retweeted by the authenticating user."
   ]
  },
  {
   "cell_type": "code",
   "execution_count": 2,
   "metadata": {},
   "outputs": [],
   "source": [
    "import numpy as np\n",
    "import pandas as pd\n",
    "import matplotlib.pyplot as plt\n",
    "import re\n",
    "import numpy as np\n",
    "import seaborn as sns\n",
    "from scipy import stats as stat"
   ]
  },
  {
   "cell_type": "code",
   "execution_count": 4,
   "metadata": {},
   "outputs": [
    {
     "name": "stdout",
     "output_type": "stream",
     "text": [
      "+--------------------+---------------+--------------------+-------------------+--------------+------------+---------------+-------------+-------------------+--------------------+--------------------+--------------------+-------------------+\n",
      "|           user_name|  user_location|    user_description|       user_created|user_followers|user_friends|user_favourites|user_verified|               date|                text|            hashtags|              source|         is_retweet|\n",
      "+--------------------+---------------+--------------------+-------------------+--------------+------------+---------------+-------------+-------------------+--------------------+--------------------+--------------------+-------------------+\n",
      "|       DeSota Wilson|    Atlanta, GA|Biz Consultant, r...|2009-04-26 20:05:09|        8534.0|        7605|           4838|        False|2021-02-10 23:59:04|Blue Ridge Bank s...|         ['bitcoin']|     Twitter Web App|              False|\n",
      "|            CryptoND|           null|😎 BITCOINLIVE is...|2019-10-17 20:12:10|        6769.0|        1532|          25483|        False|2021-02-10 23:58:48|\"😎 Today, that's...| #Btc #wallet #se...|['Thursday', 'Btc...|Twitter for Android|\n",
      "|           Tdlmatias|London, England|IM Academy : The ...|2014-11-10 10:50:37|         128.0|         332|            924|        False|2021-02-10 23:54:48|Guys evening, I h...|                null|     Twitter Web App|              False|\n",
      "|Crypto is the future|           null|I will post a lot...|2019-09-28 16:48:12|         625.0|         129|             14|        False|2021-02-10 23:54:33|$BTC A big chance...|['Bitcoin', 'FX',...|             dlvr.it|              False|\n",
      "|Alex Kirchmaier ?...|         Europa|Co-founder @RENJE...|               null|          null|        null|           null|         null|               null|                null|                null|                null|               null|\n",
      "+--------------------+---------------+--------------------+-------------------+--------------+------------+---------------+-------------+-------------------+--------------------+--------------------+--------------------+-------------------+\n",
      "only showing top 5 rows\n",
      "\n"
     ]
    }
   ],
   "source": [
    "tweets_schema = StructType([\n",
    "StructField('user_name', StringType(), True),\n",
    "StructField('user_location', StringType(), True),\n",
    "StructField('user_description', StringType(), True),\n",
    "StructField('user_created', StringType(), True),\n",
    "StructField('user_followers', StringType(), True),\n",
    "StructField('user_friends', StringType(), True),\n",
    "StructField('user_favourites', StringType(), True),\n",
    "StructField('user_verified', StringType(), True),\n",
    "StructField('date', StringType(), True),\n",
    "StructField('text', StringType(), True),\n",
    "StructField('hashtags', StringType(), True),\n",
    "StructField('source', StringType(), True),\n",
    "StructField('is_retweet', StringType(), True),\n",
    "])\n",
    "\n",
    "tweets_df = spark.read.csv(\n",
    "    \"./data/tweets.csv\", \n",
    "    header=True, \n",
    "    schema=tweets_schema)\n",
    "\n",
    "btc_schema = StructType([\n",
    "StructField('Unix Timestamp', StringType(), True),\n",
    "StructField('Date', StringType(), True),\n",
    "StructField('Symbol', StringType(), True),\n",
    "StructField('Open', FloatType(), True),\n",
    "StructField('High', FloatType(), True),\n",
    "StructField('Low', FloatType(), True),\n",
    "StructField('Close', FloatType(), True),\n",
    "StructField('Volume', FloatType(), True),\n",
    "])\n",
    "\n",
    "btc_df = spark.read.csv(\n",
    "    \"./data/bitcoinvalue.csv\",\n",
    "    sep=',',\n",
    "    # header=True, \n",
    "    schema=btc_schema)\n",
    "\n",
    "tweets_df.show(10)"
   ]
  },
  {
   "cell_type": "code",
   "execution_count": null,
   "metadata": {},
   "outputs": [],
   "source": [
    "#Function BEFORE\n",
    "\n",
    "tweets_df[\"hashtags\"]=tweets_df[\"hashtags\"].apply(lambda s : s[1:-1].split(',') if isinstance(s,str) else [])\n",
    "tweets_df[\"hashtags_len\"]=tweets_df[\"hashtags\"].apply(len)\n",
    "\n",
    "#Function AFTER\n",
    "\n",
    "tweets_df = tweets_df.select(F.split(col('hashtags'), \",\").alias(\"hastags_array\")).drop('hashtags')"
   ]
  },
  {
   "cell_type": "code",
   "execution_count": null,
   "metadata": {},
   "outputs": [],
   "source": [
    "tweets_vol = tweets_df.groupby('date').size().rolling(10).mean().dropna()\n",
    "fig, ax = plt.subplots()\n",
    "\n",
    "ax.plot(tweets_vol.index,tweets_vol,label='Total Tweets')\n",
    "ax.set_yscale('log')\n",
    "ax.tick_params(axis='y')\n",
    "\n",
    "lines, labels = ax.get_legend_handles_labels()\n",
    "\n",
    "ax.legend(lines, labels, loc=0)\n",
    "plt.title(\"Total Tweets / Date\")\n",
    "\n",
    "plt.show()"
   ]
  },
  {
   "cell_type": "code",
   "execution_count": null,
   "metadata": {},
   "outputs": [],
   "source": [
    "fig, ax = plt.subplots()\n",
    "ax.plot(btc_value_df['Date'],btc_value_df['Open'],label='Bitcoin Value')\n",
    "ax.tick_params(axis='y')\n",
    "\n",
    "lines, labels = ax.get_legend_handles_labels()\n",
    "\n",
    "ax.legend(lines, labels)\n",
    "plt.title(\"Bitcoin Value\")\n",
    "\n",
    "plt.show()"
   ]
  },
  {
   "cell_type": "code",
   "execution_count": null,
   "metadata": {},
   "outputs": [],
   "source": [
    "df_location = tweets_df.groupBy('user_location').count().sort(col(\"count\").desc()).show()"
   ]
  }
 ],
 "metadata": {
  "interpreter": {
   "hash": "916dbcbb3f70747c44a77c7bcd40155683ae19c65e1c03b4aa3499c5328201f1"
  },
  "kernelspec": {
   "display_name": "Python 3 (ipykernel)",
   "language": "python",
   "name": "python3"
  },
  "language_info": {
   "codemirror_mode": {
    "name": "ipython",
    "version": 3
   },
   "file_extension": ".py",
   "mimetype": "text/x-python",
   "name": "python",
   "nbconvert_exporter": "python",
   "pygments_lexer": "ipython3",
   "version": "3.9.5"
  }
 },
 "nbformat": 4,
 "nbformat_minor": 2
}
