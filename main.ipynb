{
 "cells": [
  {
   "cell_type": "markdown",
   "metadata": {},
   "source": [
    "# Bitcoin & Twitter\n",
    "\n",
    "Project on Data Mining by Bontenakel Lenny & Bels Senne.  \n",
    " *[Link to our github repository](https://github.com/snenenenenenene/btc-twitter-data-mining)*"
   ]
  },
  {
   "cell_type": "markdown",
   "metadata": {},
   "source": [
    "# Introduction\n",
    "\n",
    "## Research Question\n",
    "\n",
    "In this project we will research the correlation between the activity around cryptocurrency on social media and the actual stock price of said cryptocurrency. In this case we will take the examples of social media channel *Twitter* and the cryptocurrency *Bitcoin*.\n",
    "\n",
    "To achieve this we ask ourselves the following question:\n",
    "\n",
    "Is there a correlation between the activity on Twitter regarding Bitcoin and the stock price of Bitcoin? \n",
    "\n",
    "## Method\n",
    "\n",
    "To answer this question we will look and analyze at past data from Kaggle.com and Yahoo Finance. By analyzing this data we can easily formulate the answer to our question.\n",
    "\n",
    "## Technologies\n",
    "\n",
    "Name       | Reason\n",
    "-----------|--------------------------------\n",
    "PySpark    | Loading and processing datasets\n",
    "Matplotlib | Visualising data\n",
    "Pattern    | Analysing sentiments\n",
    "Folium     | Mapping locations on a map"
   ]
  },
  {
   "cell_type": "code",
   "execution_count": 1,
   "metadata": {},
   "outputs": [
    {
     "name": "stderr",
     "output_type": "stream",
     "text": [
      "21/12/07 16:30:48 WARN Utils: Your hostname, pop-os resolves to a loopback address: 127.0.1.1; using 192.168.1.11 instead (on interface wlp59s0)\n",
      "21/12/07 16:30:48 WARN Utils: Set SPARK_LOCAL_IP if you need to bind to another address\n",
      "WARNING: An illegal reflective access operation has occurred\n",
      "WARNING: Illegal reflective access by org.apache.spark.unsafe.Platform (file:/home/lenny/.local/share/miniconda3/envs/data-mining/lib/python3.9/site-packages/pyspark/jars/spark-unsafe_2.12-3.1.2.jar) to constructor java.nio.DirectByteBuffer(long,int)\n",
      "WARNING: Please consider reporting this to the maintainers of org.apache.spark.unsafe.Platform\n",
      "WARNING: Use --illegal-access=warn to enable warnings of further illegal reflective access operations\n",
      "WARNING: All illegal access operations will be denied in a future release\n",
      "21/12/07 16:30:48 WARN NativeCodeLoader: Unable to load native-hadoop library for your platform... using builtin-java classes where applicable\n",
      "Using Spark's default log4j profile: org/apache/spark/log4j-defaults.properties\n",
      "Setting default log level to \"WARN\".\n",
      "To adjust logging level use sc.setLogLevel(newLevel). For SparkR, use setLogLevel(newLevel).\n",
      "21/12/07 16:30:49 WARN Utils: Service 'SparkUI' could not bind on port 4040. Attempting port 4041.\n"
     ]
    }
   ],
   "source": [
    "from pyspark import SparkContext\n",
    "from pyspark.sql.types import *\n",
    "from pyspark.sql import *\n",
    "import matplotlib.dates as mdates\n",
    "import matplotlib.pyplot as plt\n",
    "from matplotlib.pyplot import rc\n",
    "import re\n",
    "import datetime\n",
    "from typing import List\n",
    "import numpy as np\n",
    "from wordcloud import WordCloud\n",
    "import folium\n",
    "from PIL import Image\n",
    "import yfinance as yf\n",
    "from geopy.geocoders import Nominatim\n",
    "from pattern.en import sentiment\n",
    "from pyspark.sql import functions as F\n",
    "from pyspark.sql.functions import col, desc, asc, udf, max, struct\n",
    "\n",
    "sc = SparkContext(\"local\").getOrCreate()\n",
    "sqlContext = SQLContext(sc)\n",
    "spark = SparkSession(sc)\n",
    "plt.style.use('ggplot')\n",
    "\n",
    "spark.conf.set(\"spark.sql.repl.eagerEval.enabled\", True)"
   ]
  },
  {
   "cell_type": "markdown",
   "metadata": {},
   "source": [
    "# Tweets\n",
    "\n",
    "We load tweet data from a dataset found on kaggle. A link to this dataset can be found in the README, provided in our *[github repository](https://github.com/snenenenenenene/btc-twitter-data-mining)*.   \n",
    "This dataset contains all tweets with some regard or mention of Bitcoin. This could be a hashtag or simply any mention of Bitcoin within the text of the tweet.\n",
    "\n",
    "The dataset contains following data:\n",
    "\n",
    "\n",
    "Column           | Description\n",
    "-----------------|------------------------------------------------------------------------------------------\n",
    "user_name        | The name of the user, as they’ve defined it.\n",
    "user_location    | The user-defined location for this account’s profile.\n",
    "user_description | The user-defined UTF-8 string describing their account.\n",
    "user_created     | Time and date, when the account was created.\n",
    "user_followers   | The number of followers an account currently has.\n",
    "user_friends     | The number of friends a account currently has.\n",
    "user_favourites  | The number of favorites a account currently has\n",
    "user_verified    | When true, indicates that the user has a verified account\n",
    "date             | UTC time and date when the Tweet was created\n",
    "text             | The actual UTF-8 text of the Tweet\n",
    "hashtags         | All the other hashtags posted in the tweet along with #Bitcoin & #btc\n",
    "source           | Utility used to post the Tweet, Tweets from the Twitter website have a source value - web\n",
    "is_retweet       | Indicates whether this Tweet has been Retweeted by the authenticating user."
   ]
  },
  {
   "cell_type": "code",
   "execution_count": 2,
   "metadata": {},
   "outputs": [
    {
     "data": {
      "text/html": [
       "<table border='1'>\n",
       "<tr><th>user_name</th><th>user_location</th><th>user_description</th><th>user_created</th><th>user_followers</th><th>user_friends</th><th>user_favourites</th><th>user_verified</th><th>date</th><th>text</th><th>hashtags</th><th>source</th><th>is_retweet</th></tr>\n",
       "<tr><td>DeSota Wilson</td><td>Atlanta, GA</td><td>Biz Consultant, r...</td><td>2009-04-26 20:05:09</td><td>8534.0</td><td>7605.0</td><td>4838.0</td><td>false</td><td>2021-02-10 23:59:04</td><td>Blue Ridge Bank s...</td><td>[&#x27;bitcoin&#x27;]</td><td>Twitter Web App</td><td>false</td></tr>\n",
       "<tr><td>CryptoND</td><td>null</td><td>😎 BITCOINLIVE is...</td><td>2019-10-17 20:12:10</td><td>6769.0</td><td>1532.0</td><td>25483.0</td><td>false</td><td>2021-02-10 23:58:48</td><td>😎 Today, that&#x27;s ...</td><td>[&#x27;Thursday&#x27;, &#x27;Btc...</td><td>Twitter for Android</td><td>false</td></tr>\n",
       "<tr><td>Tdlmatias</td><td>London, England</td><td>IM Academy : The ...</td><td>2014-11-10 10:50:37</td><td>128.0</td><td>332.0</td><td>924.0</td><td>false</td><td>2021-02-10 23:54:48</td><td>Guys evening, I h...</td><td>null</td><td>Twitter Web App</td><td>false</td></tr>\n",
       "<tr><td>Crypto is the future</td><td>null</td><td>I will post a lot...</td><td>2019-09-28 16:48:12</td><td>625.0</td><td>129.0</td><td>14.0</td><td>false</td><td>2021-02-10 23:54:33</td><td>$BTC A big chance...</td><td>[&#x27;Bitcoin&#x27;, &#x27;FX&#x27;,...</td><td>dlvr.it</td><td>false</td></tr>\n",
       "<tr><td>Alex Kirchmaier ?...</td><td>Europa</td><td>Co-founder @RENJE...</td><td>2016-02-03 13:15:55</td><td>1249.0</td><td>1472.0</td><td>10482.0</td><td>false</td><td>2021-02-10 23:54:06</td><td>This network is s...</td><td>[&#x27;BTC&#x27;]</td><td>Twitter Web App</td><td>false</td></tr>\n",
       "<tr><td>ZerrBenz™ ⚔ ✪ 20732</td><td>Bkk, Thailand</td><td>I&#x27;m a cat slave ?...</td><td>2010-01-12 07:00:04</td><td>742.0</td><td>716.0</td><td>2444.0</td><td>false</td><td>2021-02-10 23:53:30</td><td>💹 Trade #Crypto ...</td><td>[&#x27;Crypto&#x27;, &#x27;Binan...</td><td>Twitter Web App</td><td>false</td></tr>\n",
       "<tr><td>Bitcoin-Bot</td><td>Florida, USA</td><td>Bot to generate B...</td><td>2019-12-23 16:49:16</td><td>131.0</td><td>84.0</td><td>5728.0</td><td>false</td><td>2021-02-10 23:53:17</td><td>&amp;lt;&#x27;fire&#x27; &amp;amp; ...</td><td>[&#x27;Bitcoin&#x27;, &#x27;Cryp...</td><td>BTC_p_bot</td><td>false</td></tr>\n",
       "<tr><td>Cryptocurrencies ...</td><td>null</td><td>Stay updated on t...</td><td>2018-08-03 21:30:08</td><td>4052.0</td><td>1.0</td><td>9.0</td><td>false</td><td>2021-02-10 23:52:42</td><td>🔄 Prices update ...</td><td>null</td><td>Cryptocurrencies ...</td><td>false</td></tr>\n",
       "<tr><td>Mikcoin</td><td>null</td><td>Technical Analyst...</td><td>2020-11-26 23:45:46</td><td>104.0</td><td>41.0</td><td>238.0</td><td>false</td><td>2021-02-10 23:52:25</td><td>#BTC #Bitcoin #Et...</td><td>[&#x27;BTC&#x27;, &#x27;Bitcoin&#x27;...</td><td>Twitter Web App</td><td>false</td></tr>\n",
       "<tr><td>DeSota Wilson</td><td>Atlanta, GA</td><td>Biz Consultant, r...</td><td>2009-04-26 20:05:09</td><td>8534.0</td><td>7605.0</td><td>4838.0</td><td>false</td><td>2021-02-10 23:52:08</td><td>.@Tesla’s #bitcoi...</td><td>[&#x27;bitcoin&#x27;, &#x27;cryp...</td><td>Twitter Web App</td><td>false</td></tr>\n",
       "<tr><td>@massumeh18 #Refi...</td><td>NOVA</td><td>Persistent. to th...</td><td>2009-01-05 13:28:47</td><td>1159.0</td><td>2185.0</td><td>30852.0</td><td>false</td><td>2021-02-10 23:52:04</td><td>Annnd #btc #Bitco...</td><td>[&#x27;btc&#x27;, &#x27;Bitcoin&#x27;]</td><td>Twitter Web App</td><td>false</td></tr>\n",
       "<tr><td>BittrexPrices</td><td>null</td><td>Scans Bittrex’s m...</td><td>2018-05-25 20:30:07</td><td>3131.0</td><td>1.0</td><td>18.0</td><td>false</td><td>2021-02-10 23:51:25</td><td>🔄 Prices update ...</td><td>null</td><td>Bittrex Prices</td><td>false</td></tr>\n",
       "<tr><td>CPUcoin</td><td>Cayman Islands</td><td>The Sharing Econo...</td><td>2018-08-27 15:42:00</td><td>5097.0</td><td>791.0</td><td>52.0</td><td>false</td><td>2021-02-10 23:50:59</td><td>Join our first vi...</td><td>null</td><td>Twitter Web App</td><td>false</td></tr>\n",
       "<tr><td>One Perspective</td><td>Market Place</td><td>It&#x27;s all a market...</td><td>2018-01-09 21:49:45</td><td>668.0</td><td>1097.0</td><td>6853.0</td><td>false</td><td>2021-02-10 23:50:30</td><td>#Bitcoin #BTC $BT...</td><td>[&#x27;Bitcoin&#x27;, &#x27;BTC&#x27;...</td><td>Twitter for Android</td><td>false</td></tr>\n",
       "<tr><td>CryptoSquawk</td><td>Australia</td><td>24x7 Crypto marke...</td><td>2017-10-05 10:13:09</td><td>1281.0</td><td>25.0</td><td>72.0</td><td>false</td><td>2021-02-10 23:50:02</td><td>⬆️⬆️ $BTC BUYING ...</td><td>[&#x27;Bitcoin&#x27;, &#x27;cryp...</td><td>CryptoSquawkBot</td><td>false</td></tr>\n",
       "<tr><td>$MOON</td><td>Moon</td><td>#Bitcoin</td><td>2010-07-12 09:07:42</td><td>4.0</td><td>32.0</td><td>139.0</td><td>false</td><td>2021-02-10 23:48:38</td><td>Buy #Bitcoin with...</td><td>[&#x27;Bitcoin&#x27;, &#x27;cryp...</td><td>Twitter Web App</td><td>false</td></tr>\n",
       "<tr><td>Mr. Anderson</td><td>null</td><td>#Bitcoin\n",
       "Long Ter...</td><td>2018-01-01 22:16:16</td><td>72542.0</td><td>519.0</td><td>19763.0</td><td>false</td><td>2021-02-10 23:48:37</td><td>@naval #BTC is un...</td><td>[&#x27;BTC&#x27;, &#x27;Bitcoin&#x27;]</td><td>Twitter for iPhone</td><td>false</td></tr>\n",
       "<tr><td>Crypto is the future</td><td>null</td><td>I will post a lot...</td><td>2019-09-28 16:48:12</td><td>625.0</td><td>129.0</td><td>14.0</td><td>false</td><td>2021-02-10 23:47:32</td><td>$BTC A big chance...</td><td>[&#x27;Bitcoin&#x27;, &#x27;FX&#x27;,...</td><td>dlvr.it</td><td>false</td></tr>\n",
       "<tr><td>DeSota Wilson</td><td>Atlanta, GA</td><td>Biz Consultant, r...</td><td>2009-04-26 20:05:09</td><td>8534.0</td><td>7605.0</td><td>4838.0</td><td>false</td><td>2021-02-10 23:47:13</td><td>#Bitcoin institut...</td><td>[&#x27;Bitcoin&#x27;, &#x27;BTC&#x27;...</td><td>Twitter Web App</td><td>false</td></tr>\n",
       "<tr><td>Crypto Signaler</td><td>null</td><td>#Crypto #Signaler...</td><td>2018-04-08 23:44:11</td><td>587.0</td><td>30.0</td><td>12.0</td><td>false</td><td>2021-02-10 23:46:39</td><td>Signal: $TFUEL\n",
       "#T...</td><td>[&#x27;TFUEL&#x27;, &#x27;ThetaF...</td><td>Twitter for Android</td><td>false</td></tr>\n",
       "</table>\n",
       "only showing top 20 rows\n"
      ],
      "text/plain": [
       "+--------------------+---------------+--------------------+-------------------+--------------+------------+---------------+-------------+-------------------+--------------------+--------------------+--------------------+----------+\n",
       "|           user_name|  user_location|    user_description|       user_created|user_followers|user_friends|user_favourites|user_verified|               date|                text|            hashtags|              source|is_retweet|\n",
       "+--------------------+---------------+--------------------+-------------------+--------------+------------+---------------+-------------+-------------------+--------------------+--------------------+--------------------+----------+\n",
       "|       DeSota Wilson|    Atlanta, GA|Biz Consultant, r...|2009-04-26 20:05:09|        8534.0|      7605.0|         4838.0|        false|2021-02-10 23:59:04|Blue Ridge Bank s...|         ['bitcoin']|     Twitter Web App|     false|\n",
       "|            CryptoND|           null|😎 BITCOINLIVE is...|2019-10-17 20:12:10|        6769.0|      1532.0|        25483.0|        false|2021-02-10 23:58:48|😎 Today, that's ...|['Thursday', 'Btc...| Twitter for Android|     false|\n",
       "|           Tdlmatias|London, England|IM Academy : The ...|2014-11-10 10:50:37|         128.0|       332.0|          924.0|        false|2021-02-10 23:54:48|Guys evening, I h...|                null|     Twitter Web App|     false|\n",
       "|Crypto is the future|           null|I will post a lot...|2019-09-28 16:48:12|         625.0|       129.0|           14.0|        false|2021-02-10 23:54:33|$BTC A big chance...|['Bitcoin', 'FX',...|             dlvr.it|     false|\n",
       "|Alex Kirchmaier ?...|         Europa|Co-founder @RENJE...|2016-02-03 13:15:55|        1249.0|      1472.0|        10482.0|        false|2021-02-10 23:54:06|This network is s...|             ['BTC']|     Twitter Web App|     false|\n",
       "| ZerrBenz™ ⚔ ✪ 20732|  Bkk, Thailand|I'm a cat slave ?...|2010-01-12 07:00:04|         742.0|       716.0|         2444.0|        false|2021-02-10 23:53:30|💹 Trade #Crypto ...|['Crypto', 'Binan...|     Twitter Web App|     false|\n",
       "|         Bitcoin-Bot|   Florida, USA|Bot to generate B...|2019-12-23 16:49:16|         131.0|        84.0|         5728.0|        false|2021-02-10 23:53:17|&lt;'fire' &amp; ...|['Bitcoin', 'Cryp...|           BTC_p_bot|     false|\n",
       "|Cryptocurrencies ...|           null|Stay updated on t...|2018-08-03 21:30:08|        4052.0|         1.0|            9.0|        false|2021-02-10 23:52:42|🔄 Prices update ...|                null|Cryptocurrencies ...|     false|\n",
       "|             Mikcoin|           null|Technical Analyst...|2020-11-26 23:45:46|         104.0|        41.0|          238.0|        false|2021-02-10 23:52:25|#BTC #Bitcoin #Et...|['BTC', 'Bitcoin'...|     Twitter Web App|     false|\n",
       "|       DeSota Wilson|    Atlanta, GA|Biz Consultant, r...|2009-04-26 20:05:09|        8534.0|      7605.0|         4838.0|        false|2021-02-10 23:52:08|.@Tesla’s #bitcoi...|['bitcoin', 'cryp...|     Twitter Web App|     false|\n",
       "|@massumeh18 #Refi...|           NOVA|Persistent. to th...|2009-01-05 13:28:47|        1159.0|      2185.0|        30852.0|        false|2021-02-10 23:52:04|Annnd #btc #Bitco...|  ['btc', 'Bitcoin']|     Twitter Web App|     false|\n",
       "|       BittrexPrices|           null|Scans Bittrex’s m...|2018-05-25 20:30:07|        3131.0|         1.0|           18.0|        false|2021-02-10 23:51:25|🔄 Prices update ...|                null|      Bittrex Prices|     false|\n",
       "|             CPUcoin| Cayman Islands|The Sharing Econo...|2018-08-27 15:42:00|        5097.0|       791.0|           52.0|        false|2021-02-10 23:50:59|Join our first vi...|                null|     Twitter Web App|     false|\n",
       "|     One Perspective|   Market Place|It's all a market...|2018-01-09 21:49:45|         668.0|      1097.0|         6853.0|        false|2021-02-10 23:50:30|#Bitcoin #BTC $BT...|['Bitcoin', 'BTC'...| Twitter for Android|     false|\n",
       "|        CryptoSquawk|      Australia|24x7 Crypto marke...|2017-10-05 10:13:09|        1281.0|        25.0|           72.0|        false|2021-02-10 23:50:02|⬆️⬆️ $BTC BUYING ...|['Bitcoin', 'cryp...|     CryptoSquawkBot|     false|\n",
       "|               $MOON|           Moon|            #Bitcoin|2010-07-12 09:07:42|           4.0|        32.0|          139.0|        false|2021-02-10 23:48:38|Buy #Bitcoin with...|['Bitcoin', 'cryp...|     Twitter Web App|     false|\n",
       "|        Mr. Anderson|           null|#Bitcoin\n",
       "Long Ter...|2018-01-01 22:16:16|       72542.0|       519.0|        19763.0|        false|2021-02-10 23:48:37|@naval #BTC is un...|  ['BTC', 'Bitcoin']|  Twitter for iPhone|     false|\n",
       "|Crypto is the future|           null|I will post a lot...|2019-09-28 16:48:12|         625.0|       129.0|           14.0|        false|2021-02-10 23:47:32|$BTC A big chance...|['Bitcoin', 'FX',...|             dlvr.it|     false|\n",
       "|       DeSota Wilson|    Atlanta, GA|Biz Consultant, r...|2009-04-26 20:05:09|        8534.0|      7605.0|         4838.0|        false|2021-02-10 23:47:13|#Bitcoin institut...|['Bitcoin', 'BTC'...|     Twitter Web App|     false|\n",
       "|     Crypto Signaler|           null|#Crypto #Signaler...|2018-04-08 23:44:11|         587.0|        30.0|           12.0|        false|2021-02-10 23:46:39|Signal: $TFUEL\n",
       "#T...|['TFUEL', 'ThetaF...| Twitter for Android|     false|\n",
       "+--------------------+---------------+--------------------+-------------------+--------------+------------+---------------+-------------+-------------------+--------------------+--------------------+--------------------+----------+\n",
       "only showing top 20 rows"
      ]
     },
     "execution_count": 2,
     "metadata": {},
     "output_type": "execute_result"
    }
   ],
   "source": [
    "tweets_schema = StructType([\n",
    "    StructField('user_name', StringType(), True),\n",
    "    StructField('user_location', StringType(), True),\n",
    "    StructField('user_description', StringType(), True),\n",
    "    StructField('user_created', StringType(), True),\n",
    "    StructField('user_followers', FloatType(), True),\n",
    "    StructField('user_friends', FloatType(), True),\n",
    "    StructField('user_favourites', FloatType(), True),\n",
    "    StructField('user_verified', BooleanType(), True),\n",
    "    StructField('date', StringType(), True),\n",
    "    StructField('text', StringType(), True),\n",
    "    StructField('hashtags', StringType(), True),\n",
    "    StructField('source', StringType(), True),\n",
    "    StructField('is_retweet', BooleanType(), True),\n",
    "])\n",
    "\n",
    "tweets_df = spark.read.csv(\n",
    "    \"./data/tweets.csv\",\n",
    "    header=True,\n",
    "    multiLine=True,\n",
    "    unescapedQuoteHandling=\"STOP_AT_CLOSING_QUOTE\",\n",
    "    schema=tweets_schema\n",
    ")\n",
    "\n",
    "tweets_df"
   ]
  },
  {
   "cell_type": "markdown",
   "metadata": {},
   "source": [
    "# Yahoo finance data\n",
    "\n",
    "We also require a dataset with the stock price of Bitcoin over the period between 26-11-2021 and 5-2-2021. For this we will use the Yahoo Finance library. The data we get from this looks like this:\n",
    "\n",
    "\n",
    "Column       | Description\n",
    "-------------|-------------------------------------------------------\n",
    "Open         | Open value of the currency\n",
    "High         | Highest value of currency in the given minute\n",
    "Low          | Lowest value of currency in the given minute\n",
    "Close        | Close value of the currency in the given minute\n",
    "Volume       | Volume of the currency transacted in the given minute.\n",
    "Dividends    | ...\n",
    "Stock Splits | ..."
   ]
  },
  {
   "cell_type": "code",
   "execution_count": 3,
   "metadata": {},
   "outputs": [
    {
     "data": {
      "text/html": [
       "<table border='1'>\n",
       "<tr><th>Open</th><th>High</th><th>Low</th><th>Close</th><th>Volume</th><th>Dividends</th><th>Stock Splits</th></tr>\n",
       "<tr><td>37475.10546875</td><td>38592.17578125</td><td>36317.5</td><td>36926.06640625</td><td>68838074392</td><td>0</td><td>0</td></tr>\n",
       "<tr><td>36931.546875</td><td>38225.90625</td><td>36658.76171875</td><td>38144.30859375</td><td>58598066402</td><td>0</td><td>0</td></tr>\n",
       "<tr><td>38138.38671875</td><td>40846.546875</td><td>38138.38671875</td><td>39266.01171875</td><td>71326033653</td><td>0</td><td>0</td></tr>\n",
       "<tr><td>39250.19140625</td><td>39621.8359375</td><td>37446.15234375</td><td>38903.44140625</td><td>65500641143</td><td>0</td><td>0</td></tr>\n",
       "<tr><td>38886.828125</td><td>46203.9296875</td><td>38076.32421875</td><td>46196.46484375</td><td>101467222687</td><td>0</td><td>0</td></tr>\n",
       "<tr><td>46184.9921875</td><td>48003.72265625</td><td>45166.9609375</td><td>46481.10546875</td><td>91809846886</td><td>0</td><td>0</td></tr>\n",
       "<tr><td>46469.76171875</td><td>47145.56640625</td><td>43881.15234375</td><td>44918.18359375</td><td>87301089896</td><td>0</td><td>0</td></tr>\n",
       "<tr><td>44898.7109375</td><td>48463.46875</td><td>44187.76171875</td><td>47909.33203125</td><td>81388911810</td><td>0</td><td>0</td></tr>\n",
       "<tr><td>47877.03515625</td><td>48745.734375</td><td>46424.9765625</td><td>47504.8515625</td><td>76555041196</td><td>0</td><td>0</td></tr>\n",
       "<tr><td>47491.203125</td><td>48047.74609375</td><td>46392.28125</td><td>47105.515625</td><td>70250456155</td><td>0</td><td>0</td></tr>\n",
       "<tr><td>47114.5078125</td><td>49487.640625</td><td>47114.5078125</td><td>48717.2890625</td><td>71248675228</td><td>0</td><td>0</td></tr>\n",
       "<tr><td>48696.53515625</td><td>48875.5703125</td><td>46347.4765625</td><td>47945.05859375</td><td>77069903166</td><td>0</td><td>0</td></tr>\n",
       "<tr><td>47944.45703125</td><td>50341.1015625</td><td>47201.3046875</td><td>49199.87109375</td><td>77049582886</td><td>0</td><td>0</td></tr>\n",
       "<tr><td>49207.27734375</td><td>52533.9140625</td><td>49072.37890625</td><td>52149.0078125</td><td>80820545404</td><td>0</td><td>0</td></tr>\n",
       "<tr><td>52140.97265625</td><td>52474.10546875</td><td>51015.765625</td><td>51679.796875</td><td>52054723579</td><td>0</td><td>0</td></tr>\n",
       "<tr><td>51675.98046875</td><td>56113.65234375</td><td>50937.27734375</td><td>55888.1328125</td><td>63495496918</td><td>0</td><td>0</td></tr>\n",
       "<tr><td>55887.3359375</td><td>57505.2265625</td><td>54626.55859375</td><td>56099.51953125</td><td>68145460026</td><td>0</td><td>0</td></tr>\n",
       "<tr><td>56068.56640625</td><td>58330.5703125</td><td>55672.609375</td><td>57539.9453125</td><td>51897585191</td><td>0</td><td>0</td></tr>\n",
       "<tr><td>57532.73828125</td><td>57533.390625</td><td>48967.56640625</td><td>54207.3203125</td><td>92052420332</td><td>0</td><td>0</td></tr>\n",
       "<tr><td>54204.9296875</td><td>54204.9296875</td><td>45290.58984375</td><td>48824.42578125</td><td>106102492824</td><td>0</td><td>0</td></tr>\n",
       "</table>\n",
       "only showing top 20 rows\n"
      ],
      "text/plain": [
       "+--------------+--------------+--------------+--------------+------------+---------+------------+\n",
       "|          Open|          High|           Low|         Close|      Volume|Dividends|Stock Splits|\n",
       "+--------------+--------------+--------------+--------------+------------+---------+------------+\n",
       "|37475.10546875|38592.17578125|       36317.5|36926.06640625| 68838074392|        0|           0|\n",
       "|  36931.546875|   38225.90625|36658.76171875|38144.30859375| 58598066402|        0|           0|\n",
       "|38138.38671875|  40846.546875|38138.38671875|39266.01171875| 71326033653|        0|           0|\n",
       "|39250.19140625| 39621.8359375|37446.15234375|38903.44140625| 65500641143|        0|           0|\n",
       "|  38886.828125| 46203.9296875|38076.32421875|46196.46484375|101467222687|        0|           0|\n",
       "| 46184.9921875|48003.72265625| 45166.9609375|46481.10546875| 91809846886|        0|           0|\n",
       "|46469.76171875|47145.56640625|43881.15234375|44918.18359375| 87301089896|        0|           0|\n",
       "| 44898.7109375|   48463.46875|44187.76171875|47909.33203125| 81388911810|        0|           0|\n",
       "|47877.03515625|  48745.734375| 46424.9765625| 47504.8515625| 76555041196|        0|           0|\n",
       "|  47491.203125|48047.74609375|   46392.28125|  47105.515625| 70250456155|        0|           0|\n",
       "| 47114.5078125|  49487.640625| 47114.5078125| 48717.2890625| 71248675228|        0|           0|\n",
       "|48696.53515625| 48875.5703125| 46347.4765625|47945.05859375| 77069903166|        0|           0|\n",
       "|47944.45703125| 50341.1015625| 47201.3046875|49199.87109375| 77049582886|        0|           0|\n",
       "|49207.27734375| 52533.9140625|49072.37890625| 52149.0078125| 80820545404|        0|           0|\n",
       "|52140.97265625|52474.10546875|  51015.765625|  51679.796875| 52054723579|        0|           0|\n",
       "|51675.98046875|56113.65234375|50937.27734375| 55888.1328125| 63495496918|        0|           0|\n",
       "| 55887.3359375| 57505.2265625|54626.55859375|56099.51953125| 68145460026|        0|           0|\n",
       "|56068.56640625| 58330.5703125|  55672.609375| 57539.9453125| 51897585191|        0|           0|\n",
       "|57532.73828125|  57533.390625|48967.56640625| 54207.3203125| 92052420332|        0|           0|\n",
       "| 54204.9296875| 54204.9296875|45290.58984375|48824.42578125|106102492824|        0|           0|\n",
       "+--------------+--------------+--------------+--------------+------------+---------+------------+\n",
       "only showing top 20 rows"
      ]
     },
     "execution_count": 3,
     "metadata": {},
     "output_type": "execute_result"
    }
   ],
   "source": [
    "btc_stock = yf.Ticker(\"BTC-USD\")\n",
    "end = datetime.datetime(2021, 11, 26)\n",
    "start = datetime.datetime(2021, 2, 5)\n",
    "\n",
    "btc_stock = btc_stock.history(start=start, end=end)\n",
    "btc_df = spark.createDataFrame(btc_stock)\n",
    "\n",
    "btc_df"
   ]
  },
  {
   "cell_type": "markdown",
   "metadata": {},
   "source": [
    "# Dataset Quality\n",
    "\n",
    "## Missing values\n",
    "\n",
    "After having loaded our datasets we need to analyze the quality of our dataset. For this we will take a look at the amount of missing values in our dataset.    \n",
    "The locations of users should however be tolerated. Missing data in this column is not due to a low quality dataset, but due to some users not being willing to share their locations. Which should of course be respected and tolerated. Thus, there will be no actions taken to fill in this data.  \n",
    "The red horizontal baseline indicates the total amount of rows present in the dataset."
   ]
  },
  {
   "cell_type": "code",
   "execution_count": 4,
   "metadata": {},
   "outputs": [
    {
     "name": "stderr",
     "output_type": "stream",
     "text": []
    },
    {
     "data": {
      "image/png": "[encoded data removed]",
      "text/plain": [
       "<Figure size 1152x576 with 1 Axes>"
      ]
     },
     "metadata": {},
     "output_type": "display_data"
    }
   ],
   "source": [
    "fig, ax = plt.subplots(figsize=(16, 8))\n",
    "\n",
    "ax.axhline(y=tweets_df.count(), label=\"Total amount of rows\")\n",
    "ax.bar_label(\n",
    "    ax.bar(\n",
    "        tweets_df.columns,\n",
    "        [tweets_df.where(col(l).isNull()).count() for l in tweets_df.columns]\n",
    "    )\n",
    ")\n",
    "\n",
    "ax.set_xlabel(\"Columns\")\n",
    "ax.set_ylabel(\"# Null values\")\n",
    "\n",
    "ax.ticklabel_format(axis='y', style='plain')\n",
    "fig.tight_layout()\n",
    "plt.show()"
   ]
  },
  {
   "cell_type": "markdown",
   "metadata": {
    "collapsed": false
   },
   "source": [
    "# Data Preprocessing\n",
    "\n",
    "With the data loaded and checked. Not all of it is clean and ready to be used. Frankly, a data mining project wouldn't be complete without some data preprocessing. Thus there need to be some operations performed to make the data usable for our analysis. "
   ]
  },
  {
   "cell_type": "markdown",
   "metadata": {
    "collapsed": false
   },
   "source": [
    "## Text cleaning\n",
    "\n",
    "Not all text in our dataset is clean and some of it needs to be cleant for it to be used. Hyperlinks and newline characters for example interfere with the capabilities of PySpark and might cause a crash whenever we try to use it. "
   ]
  },
  {
   "cell_type": "code",
   "execution_count": 5,
   "metadata": {
    "collapsed": false,
    "pycharm": {
     "name": "#%%\n"
    }
   },
   "outputs": [],
   "source": [
    "def clean_text(text):\n",
    "    if (isinstance(text, str)):\n",
    "        text = text.replace(\"#\", \"\")\n",
    "        text = re.sub('\\\\n', '', text)\n",
    "        text = re.sub('https:\\/\\/\\S+', '', text)\n",
    "        return text\n",
    "    else:\n",
    "        return \"\"\n",
    "clean_text_udf = udf(lambda x: clean_text(x), StringType())\n",
    "\n",
    "tweets_df = tweets_df.withColumn(\"text\", clean_text_udf(col(\"text\"))).dropna(subset=[\"user_name\"])"
   ]
  },
  {
   "cell_type": "markdown",
   "metadata": {},
   "source": [
    "## Fixing the hashtags array column \n",
    "Before we can generate the impact score, we need to generate an array of strings. This array represents the hashtags present within the tweet.\n",
    "Since the csv format - which we use to read in the data - does not support arrays in pyspark. We need to fix it after reading it in as a string."
   ]
  },
  {
   "cell_type": "code",
   "execution_count": 6,
   "metadata": {},
   "outputs": [],
   "source": [
    "def fix_hashtags_array(hashtags_arr_string):\n",
    "    try:\n",
    "        closing_bracket = hashtags_arr_string.index(']', 1)\n",
    "        subject = hashtags_arr_string[1 :closing_bracket]\n",
    "\n",
    "        result = subject.split(', ') if closing_bracket > 1 else []\n",
    "        result = ' '.join(result).replace(\"'\", \"\").split()\n",
    "\n",
    "        return result\n",
    "        \n",
    "    except ValueError:\n",
    "        return []\n",
    "    \n",
    "fix_hashtags_array_udf = udf(lambda x: fix_hashtags_array(x), ArrayType(StringType()))\n",
    "\n",
    "tweets_df = tweets_df.fillna(\"[]\", subset=\"hashtags\").withColumn(\"hashtags\", fix_hashtags_array_udf(col(\"hashtags\")))"
   ]
  },
  {
   "cell_type": "markdown",
   "metadata": {
    "collapsed": false
   },
   "source": [
    "## Generating Date Dataframe\n",
    "\n",
    "At this moment we are lacking the column in our Yahoo Finance dataset containing the dates of every Bitcoin stock price. However, we do know the first and last date of the dataset - namely 5-2-2021 and 26-11-2021 - as well as the fact that this data registers new entries at regular intervals. With this knowledge we could generate a date dataframe. "
   ]
  },
  {
   "cell_type": "code",
   "execution_count": 10,
   "metadata": {
    "collapsed": false,
    "pycharm": {
     "name": "#%%\n"
    }
   },
   "outputs": [],
   "source": [
    "date_df = tweets_df.withColumn(\"date\", F.to_date(F.col(\"date\")))\n",
    "date_df = date_df.groupby(\"date\").count().dropna().sort(asc(\"date\")).filter(\n",
    "    (date_df.date > datetime.datetime(2020, 3, 20)) & (date_df.date < datetime.datetime.today()))\n",
    "\n",
    "counts_df = date_df\n",
    "\n",
    "def _get_next_dates(start_date: datetime.date, diff: int) -> List[datetime.date]:\n",
    "    return [start_date + datetime.timedelta(days=days) for days in range(1, diff)]\n",
    "\n",
    "def _get_fill_dates_df(df: DataFrame, date_column: str, group_columns: List[str], fill_column: str) -> DataFrame:\n",
    "    get_next_dates_udf = udf(_get_next_dates, ArrayType(DateType()))\n",
    "\n",
    "    window = Window.orderBy(*group_columns, date_column)\n",
    "\n",
    "    return df.withColumn(\"_diff\", F.datediff(F.lead(date_column, 1).over(window), date_column)).filter(col(\"_diff\") > 1).withColumn(\"_next_dates\", get_next_dates_udf(date_column, \"_diff\")).withColumn(fill_column, F.lit('')).withColumn(date_column, F.explode(\"_next_dates\")).drop(\"_diff\", \"_next_dates\")\n",
    "\n",
    "fill_df = _get_fill_dates_df(date_df, \"date\",[], \"count\")\n",
    "date_df = date_df.union(fill_df).sort(asc(col(\"date\")))"
   ]
  },
  {
   "cell_type": "markdown",
   "metadata": {
    "collapsed": false
   },
   "source": [
    "# Data Visualisation"
   ]
  },
  {
   "cell_type": "markdown",
   "metadata": {},
   "source": [
    "## Most popular users\n",
    "\n",
    "We will start separating data from the main dataframe, to create a new dataframe showing data about the used accounts.\n",
    "This way we can easily show what accounts are most followed and loved.\n",
    "However, user accounts are constantly changing. The amounts of followers, friends and favourites an accounts has rarely remains the same for long.\n",
    "These values rise and fall, therefore it would not be wise to simply select the instance with the max amount of followers."
   ]
  },
  {
   "cell_type": "code",
   "execution_count": null,
   "metadata": {},
   "outputs": [],
   "source": [
    "accounts_df = tweets_df.groupBy('user_name').max('user_followers').withColumnRenamed('max(user_followers)', 'user_followers').sort(desc('user_followers'))\n",
    "\n",
    "x_rows = accounts_df.select('user_name').collect()\n",
    "y_rows = accounts_df.select('user_followers').collect()\n",
    "\n",
    "fig, ax = plt.subplots(figsize=(16, 8))\n",
    "\n",
    "n = 20\n",
    "ax.barh(\n",
    "    [x.user_name for x in x_rows[:n]],\n",
    "    [y.user_followers for y in y_rows[:n]],\n",
    "    color='green',\n",
    "    label='tweets/ user'\n",
    ")\n",
    "\n",
    "ax.ticklabel_format(axis='x', style='plain')\n",
    "plt.show()"
   ]
  },
  {
   "cell_type": "markdown",
   "metadata": {
    "collapsed": false
   },
   "source": [
    "## Most active user\n",
    "\n",
    "We will also look at the most active user in the dataset and see how much impact this user has on our question."
   ]
  },
  {
   "cell_type": "code",
   "execution_count": null,
   "metadata": {
    "collapsed": false,
    "pycharm": {
     "name": "#%%\n"
    }
   },
   "outputs": [],
   "source": [
    "%matplotlib inline\n",
    "\n",
    "user_volume = tweets_df.groupby(\"user_name\").count().withColumnRenamed(\"count\", \"user_count\").sort(desc(\"user_count\"))\n",
    "\n",
    "n = 10\n",
    "x_rows = user_volume.limit(n).select(\"user_name\").collect()\n",
    "y_rows = user_volume.limit(n).select(\"user_count\").collect()\n",
    "\n",
    "fig, ax = plt.subplots(figsize=(16, 8))\n",
    "\n",
    "ax.bar_label(\n",
    "    ax.barh([x.user_name for x in x_rows],\n",
    "           [y.user_count for y in y_rows],\n",
    "           label='tweets/ user')\n",
    ")\n",
    "\n",
    "ax.set_xlabel('# tweets')\n",
    "ax.set_ylabel('username')"
   ]
  },
  {
   "cell_type": "markdown",
   "metadata": {
    "collapsed": false
   },
   "source": [
    "## Locations of users\n",
    "\n",
    "We're also interested in the locations of users. This does not really aid us in answering our question. But nevertheless it's fun to look at."
   ]
  },
  {
   "cell_type": "code",
   "execution_count": null,
   "metadata": {},
   "outputs": [],
   "source": [
    "# df_location = tweets_df.groupBy('user_location').count().sort(col(\"count\").desc()).show()\n",
    "geolocator = Nominatim(user_agent=\"example\")\n",
    "location_df = tweets_df.groupBy('user_location').count().filter(\"count >= 500\").where(\n",
    "    \"user_location not in ('Decentralized', 'Moon', '🇦🇺', 'Everywhere', 'Road Warrior', 'Mars', 'Cloud Engineer', 'Planet Earth', 'Earth', 'Blockchain', 'The Blockchain')\").sort(\n",
    "    col(\"count\").desc()).dropna().collect()\n",
    "\n",
    "\n",
    "def coords(location_string):\n",
    "    try:\n",
    "        location_obj = geolocator.geocode(location_string).raw\n",
    "        return (location_obj['lat'], location_obj['lon'])\n",
    "    except:\n",
    "        return (20, 20)\n",
    "\n",
    "\n",
    "locations = list(map(lambda r: [r['user_location'], r['count'], coords(r['user_location'])], location_df))\n",
    "map_tweets = folium.Map(location=[51,10], zoom_start=2)\n",
    "\n",
    "for location_name, count, location_coords in locations:\n",
    "    folium.Circle(location=location_coords,\n",
    "                  popup=f\"{location_name}: {count}\",\n",
    "                  radius=count * 50,\n",
    "                  color=\"crimson\",\n",
    "                  fill_color=\"crimson\",\n",
    "                  tooltip=count).add_to(map_tweets)\n",
    "map_tweets"
   ]
  },
  {
   "cell_type": "markdown",
   "metadata": {},
   "source": [
    "## Correlation between amount of tweets and Bitcoin stock price\n",
    "\n",
    "It is then time to take a first poke at our research question. It may be a fairly naive and brute force way to do it, but it provides a decent initial insight in the answer to our research question. "
   ]
  },
  {
   "cell_type": "code",
   "execution_count": null,
   "metadata": {},
   "outputs": [],
   "source": [
    "# X FOR BTC VOLUME\n",
    "dates = date_df.select(\"date\").collect()\n",
    "x = list(map(lambda r: (r['date']), dates))\n",
    "\n",
    "# X FOR COUNTS\n",
    "counts_dates = counts_df.select(\"date\").collect()\n",
    "counts_x = list(map(lambda r: (r['date']), counts_dates))\n",
    "\n",
    "# Y/COUNT OF TWEETS\n",
    "y_rows = counts_df.select(\"count\").collect()\n",
    "tweets_y = list(map(lambda r: r['count'], y_rows))\n",
    "\n",
    "# Y FOR BTC VOLUME\n",
    "y_rows = btc_df.select(\"Open\").collect()\n",
    "btc_y = list(map(lambda r: float(r['Open']), y_rows))\n",
    "\n",
    "fig, ax = plt.subplots(figsize=(16, 8))\n",
    "ax.plot(counts_dates, tweets_y, color='blue', label='Tweet Volume')\n",
    "# ax.set_yscale('log')\n",
    "ax.tick_params(axis='y')\n",
    "\n",
    "ax2 = ax.twinx()\n",
    "ax2.plot(x,btc_y, color='red', label='BTC Value')\n",
    "# ax2.set_yscale('log')\n",
    "ax2.tick_params(axis='y')\n",
    "\n",
    "lines, labels = ax.get_legend_handles_labels()\n",
    "lines2, labels2 = ax2.get_legend_handles_labels()\n",
    "ax2.legend(lines + lines2 , labels + labels2, loc=0)\n",
    "plt.show()\n"
   ]
  },
  {
   "cell_type": "markdown",
   "metadata": {},
   "source": [
    "## Sentiment Analysis\n",
    "\n",
    "Of course, not every tweet is the same. It would be naive to conclude our research here. As every tweet carries a different sentiment. There are tweets which speak poorly of Bitcoin and others which praise Bitcoin as our ticket to the future. There are also the occasional bots which are tasked with spamming Twitter with the latest news and data. And these of course carry no sentiment at all.  "
   ]
  },
  {
   "cell_type": "code",
   "execution_count": null,
   "metadata": {},
   "outputs": [],
   "source": [
    "# sentiments = [(x.text, *sentiment(x.text)) for x in tweet_text]\n",
    "\n",
    "sentiments = list(map(lambda r: [ r['text'], *sentiment(r['text']) ], col(\"text\") ))\n",
    "\n",
    "sentiment_schema = [\"text\", \"polarity\", \"subjectivity\"]\n",
    "sentiments_df = spark.createDataFrame(\n",
    "    data=sentiments,\n",
    "    schema=sentiment_schema\n",
    ")\n",
    "\n",
    "sentiments_df.show()"
   ]
  },
  {
   "cell_type": "markdown",
   "metadata": {
    "collapsed": false
   },
   "source": [
    "For the sake of not cluttering the chart with futile words such as 'a', 'in' or 'and' we left out the aforementioned ones as well as a short - yet cherry-picked - list of others."
   ]
  },
  {
   "cell_type": "code",
   "execution_count": null,
   "metadata": {
    "collapsed": false,
    "pycharm": {
     "name": "#%%\n"
    }
   },
   "outputs": [],
   "source": [
    "word_occurance = tweets_df.withColumn('word', F.explode(F.split(F.col('text'), ' '))).groupBy('word').count().sort('count', ascending=False).where(\n",
    "    \"word not in (' ', '', 'the', 'a', 'to', 'and', 'a', 'in', 'of', 'for', 'you', 'will', 'be', 'on', 'this', 'i', 'The', 'are', 'at', 'it', 'I')\").limit(100)\n",
    "\n",
    "twitter_mask = np.array(Image.open('twitter.jpeg'))\n",
    "freqs = {r.asDict()['word'] : r.asDict()['count'] for r in word_occurance.collect()}\n",
    "wordcloud = WordCloud(max_font_size=50, max_words=100, background_color=\"white\", mask=twitter_mask).generate_from_frequencies(freqs)\n",
    "plt.figure(figsize=(10, 10))\n",
    "plt.imshow(wordcloud, interpolation=\"bilinear\")\n",
    "plt.axis(\"off\")\n",
    "plt.show()"
   ]
  },
  {
   "cell_type": "code",
   "execution_count": null,
   "metadata": {
    "collapsed": false,
    "pycharm": {
     "name": "#%%\n"
    }
   },
   "outputs": [],
   "source": [
    "# hashtags_occurance = tweets_df.withColumn('hashtag', F.explode(col('hashtags'))).groupBy('hashtag').count().sort('count', ascending=False).limit(20)\n",
    "\n",
    "hashtags_occurance = tweets_df.select(\"hashtags\").withColumn(\"hashtag\", F.explode(col('hashtags'))).withColumn(\"hashtag\", F.lower(\"hashtag\")).groupBy('hashtag').count().sort(desc('count')).limit(20)\n",
    "\n",
    "x = get_column_as_list(hashtags_occurance, \"hashtag\")\n",
    "y = get_column_as_list(hashtags_occurance, \"count\")\n",
    "\n",
    "plt.subplots(figsize=(16, 8))\n",
    "plt.barh(x,y, color='orange', label='Volume')\n",
    "plt.show()"
   ]
  },
  {
   "cell_type": "markdown",
   "metadata": {},
   "source": [
    "presentatie\n",
    "---\n",
    "\n",
    "Making of\n",
    "\n",
    "Moeilijkheden.\n",
    "\n",
    "Plezantigheden\n",
    "\n",
    "Beetje commentaar\n",
    "\n",
    "Gene ppt"
   ]
  }
 ],
 "metadata": {
  "interpreter": {
   "hash": "950bcc60cdb4806130dd1b0626e927a3ecaad35b0daba1c028607da664f6fb11"
  },
  "kernelspec": {
   "display_name": "Python [conda env:tensorflow] *",
   "language": "python",
   "name": "python3"
  },
  "language_info": {
   "codemirror_mode": {
    "name": "ipython",
    "version": 3
   },
   "file_extension": ".py",
   "mimetype": "text/x-python",
   "name": "python",
   "nbconvert_exporter": "python",
   "pygments_lexer": "ipython3",
   "version": "3.9.7"
  }
 },
 "nbformat": 4,
 "nbformat_minor": 2
}
