{
 "cells": [
  {
   "cell_type": "markdown",
   "source": [
    "# Bitcoin & Twitter"
   ],
   "metadata": {}
  },
  {
   "cell_type": "code",
   "execution_count": null,
   "source": [
    "from pyspark import SparkContext\n",
    "from pyspark.sql import SparkSession\n",
    "from pyspark.sql import SQLContext\n",
    "from pyspark.sql.types import *\n",
    "from datetime import datetime\n",
    "from pyspark.sql import *\n",
    "from pyspark.sql.functions import col\n",
    "from pyspark.sql import functions as F\n",
    "\n",
    "\n",
    "# sc = SparkContext(\"local\")\n",
    "sqlContext = SQLContext(sc)\n",
    "spark = SparkSession(sc)"
   ],
   "outputs": [],
   "metadata": {}
  },
  {
   "cell_type": "code",
   "execution_count": null,
   "source": [
    "#BITCOIN\n",
    "\n",
    "# Unix Timestamp - Date represented as epoc value\n",
    "# Date - date and time when the data point was collected\n",
    "# Symbol - Symbol of the currency\n",
    "# Open - Open value of the currency\n",
    "# High - Highest value of currency in the given minute\n",
    "# Low - Lowest value of currency in the given minute\n",
    "# Close - Close value of the currency in the given minute\n",
    "# Volume - Volume of the currency transacted in the given minute.\n",
    "\n",
    "# TWITTER\n",
    "\n",
    "# user_name\tThe name of the user, as they’ve defined it.\n",
    "# user_location\tThe user-defined location for this account’s profile.\n",
    "# user_description\tThe user-defined UTF-8 string describing their account.\n",
    "# user_created\tTime and date, when the account was created.\n",
    "# user_followers\tThe number of followers an account currently has.\n",
    "# user_friends\tThe number of friends a account currently has.\n",
    "# user_favourites\tThe number of favorites a account currently has\n",
    "# user_verified\tWhen true, indicates that the user has a verified account\n",
    "# date\tUTC time and date when the Tweet was created\n",
    "# text\tThe actual UTF-8 text of the Tweet\n",
    "# hashtags\tAll the other hashtags posted in the tweet along with #Bitcoin & #btc\n",
    "# source\tUtility used to post the Tweet, Tweets from the Twitter website have a source value - web\n",
    "# is_retweet\tIndicates whether this Tweet has been Retweeted by the authenticating user."
   ],
   "outputs": [],
   "metadata": {}
  },
  {
   "cell_type": "code",
   "execution_count": null,
   "source": [
    "import numpy as np\n",
    "import pandas as pd\n",
    "import matplotlib.pyplot as plt\n",
    "import re\n",
    "import numpy as np\n",
    "import seaborn as sns\n",
    "from scipy import stats as stat"
   ],
   "outputs": [],
   "metadata": {}
  },
  {
   "cell_type": "code",
   "execution_count": 32,
   "source": [
    "btc_value_df = pd.read_csv('./data/bitcoinvalue.csv')\n",
    "\n",
    "tweets_schema = StructType([\n",
    "StructField('user_name', StringType(), True),\n",
    "StructField('user_location', StringType(), True),\n",
    "StructField('user_description', StringType(), True),\n",
    "StructField('user_created', StringType(), True),\n",
    "StructField('user_followers', IntegerType(), True),\n",
    "StructField('user_friends', IntegerType(), True),\n",
    "StructField('user_favourites', StringType(), True),\n",
    "StructField('user_verified', BooleanType(), True),\n",
    "StructField('date', StringType(), True),\n",
    "StructField('text', StringType(), True),\n",
    "StructField('hashtags', StringType(), True),\n",
    "StructField('source', StringType(), True),\n",
    "StructField('is_retweet', BooleanType(), True),\n",
    "])\n",
    "\n",
    "tweets_df = spark.read.csv(\n",
    "    \"./data/tweets.csv\", \n",
    "    header=True, \n",
    "    schema=tweets_schema)\n",
    "\n",
    "btc_schema = StructType([\n",
    "StructField('Unix Timestamp', StringType(), True),\n",
    "StructField('Date', StringType(), True),\n",
    "StructField('Symbol', StringType(), True),\n",
    "StructField('Open', FloatType(), True),\n",
    "StructField('High', FloatType(), True),\n",
    "StructField('Low', FloatType(), True),\n",
    "StructField('Close', FloatType(), True),\n",
    "StructField('Volume', FloatType(), True),\n",
    "])\n",
    "\n",
    "btc_df = spark.read.csv(\n",
    "    \"./data/bitcoinvalue.csv\", \n",
    "    header=True, \n",
    "    schema=btc_schema)\n",
    "\n",
    "tweets_df.show()\n",
    "btc_df.show()"
   ],
   "outputs": [
    {
     "output_type": "stream",
     "name": "stdout",
     "text": [
      "+--------------+---------------+------+--------+--------+--------+--------+----------+\n",
      "|Unix Timestamp|           Date|Symbol|    Open|    High|     Low|   Close|    Volume|\n",
      "+--------------+---------------+------+--------+--------+--------+--------+----------+\n",
      "|   1.61888E+12| 4/20/2021 0:02|BTCUSD|55717.47| 55723.0|55541.69|55541.69| 2.4067335|\n",
      "|   1.61888E+12| 4/20/2021 0:01|BTCUSD|55768.94|55849.82|55711.74|55717.47| 0.5734577|\n",
      "|   1.61888E+12| 4/20/2021 0:00|BTCUSD|55691.79|55793.15|55691.79|55768.94| 3.3099039|\n",
      "|   1.61888E+12|4/19/2021 23:59|BTCUSD|55777.86|55777.86|55677.92|55691.79|0.68493444|\n",
      "|   1.61888E+12|4/19/2021 23:58|BTCUSD| 55803.5|55823.88|55773.08|55777.86|0.47722456|\n",
      "|   1.61888E+12|4/19/2021 23:57|BTCUSD|55690.64|55822.91|55682.56| 55803.5| 5.4617167|\n",
      "|   1.61888E+12|4/19/2021 23:56|BTCUSD|55624.69|55713.02|55624.63|55690.64|0.69631064|\n",
      "|   1.61888E+12|4/19/2021 23:55|BTCUSD|55651.82|55675.92|55621.58|55624.69|0.47016147|\n",
      "|   1.61888E+12|4/19/2021 23:54|BTCUSD|55688.08|55730.21| 55641.4|55651.82|0.45672226|\n",
      "|   1.61888E+12|4/19/2021 23:53|BTCUSD|55749.28|55749.28|55688.08|55688.08| 0.2864192|\n",
      "|   1.61888E+12|4/19/2021 23:52|BTCUSD|55704.59|55759.27|55695.42|55749.28|0.52427083|\n",
      "|   1.61888E+12|4/19/2021 23:51|BTCUSD|55779.38|55779.38|55688.66|55704.59|0.76722777|\n",
      "|   1.61888E+12|4/19/2021 23:50|BTCUSD|55816.61|55835.57|55769.46|55779.38|  3.533438|\n",
      "|   1.61888E+12|4/19/2021 23:49|BTCUSD|55843.69|55863.89|55797.08|55816.61| 0.5866311|\n",
      "|   1.61888E+12|4/19/2021 23:48|BTCUSD|55880.12|55916.47|55815.99|55843.69| 6.0598283|\n",
      "|   1.61888E+12|4/19/2021 23:47|BTCUSD|55890.88|55918.87|55826.84|55880.12|  0.137561|\n",
      "|   1.61888E+12|4/19/2021 23:46|BTCUSD|55887.36|55892.99|55861.68|55890.88|0.21195796|\n",
      "|   1.61888E+12|4/19/2021 23:45|BTCUSD|55748.47| 55905.0|55748.47|55887.36|0.15740778|\n",
      "|   1.61888E+12|4/19/2021 23:44|BTCUSD|55859.79|55859.79| 55725.8|55748.47| 1.8194488|\n",
      "|   1.61888E+12|4/19/2021 23:43|BTCUSD|55770.34|55859.79|55770.34|55859.79|0.76952577|\n",
      "+--------------+---------------+------+--------+--------+--------+--------+----------+\n",
      "only showing top 20 rows\n",
      "\n"
     ]
    }
   ],
   "metadata": {}
  },
  {
   "cell_type": "code",
   "execution_count": null,
   "source": [
    "#Function BEFORE\n",
    "\n",
    "## tweets_df[\"hashtags\"]=tweets_df[\"hashtags\"].apply(lambda s : s[1:-1].split(',') if isinstance(s,str) else [])\n",
    "## tweets_df[\"hashtags_len\"]=tweets_df[\"hashtags\"].apply(len)\n",
    "\n",
    "#Function AFTER\n",
    "\n",
    "tweets_df = tweets_df.select(F.split(col('hashtags'), \",\").alias(\"hastags_array\")).drop('hashtags')\n",
    "\n",
    "#Functions you have to convert to spark\n",
    "\n",
    "def conv_to_int(val):\n",
    "    if isinstance(val, str):\n",
    "        return 0\n",
    "    else:\n",
    "        return float(val)\n",
    "tweets_df[\"user_followers\"]=tweets_df[\"user_followers\"].apply(lambda x : conv_to_int(x))\n",
    "tweets_df[\"user_friends\"]=tweets_df[\"user_friends\"].apply(lambda x : conv_to_int(x))\n",
    "tweets_df[\"user_favourites\"]=tweets_df[\"user_favourites\"].apply(lambda x : conv_to_int(x))\n",
    "\n",
    "def clean_text(text):\n",
    "    if(isinstance(text, str)):\n",
    "        text = text.replace(\"#\",\"\")\n",
    "        text = re.sub('\\\\n', '', text)\n",
    "        text = re.sub('https:\\/\\/\\S+', '', text)\n",
    "        return text\n",
    "    else:\n",
    "        return \"\"\n",
    "\n",
    "tweets_df[\"clean_text\"]=tweets_df[\"text\"].apply(clean_text)\n",
    "tweets_df.drop(\"text\", axis=1, inplace=True)\n",
    "\n",
    "tweets_df[\"date\"]=pd.to_datetime(tweets_df[\"date\"],errors='coerce')\n",
    "tweets_df[\"date\"]=tweets_df[\"date\"].apply(lambda x: x.date() )\n",
    "\n",
    "def generate_impact_score(tweet):\n",
    "    coef_verified = 1.1 if tweet.user_verified else 1\n",
    "    coef_hashtags = 1+(tweet.hashtags_len/20)\n",
    "    return ((tweet.user_followers + (tweet.user_friends/4))*coef_verified*coef_hashtags)/100\n",
    "\n",
    "tweets_df[\"impact_score\"]=tweets_df.apply(generate_impact_score, axis=1)\n",
    "\n",
    "btc_value_df['Date'] = pd.to_datetime(btc_value_df['Date'])"
   ],
   "outputs": [],
   "metadata": {}
  },
  {
   "cell_type": "code",
   "execution_count": null,
   "source": [
    "tweets_vol = tweets_df.groupby('date').size().rolling(10).mean().dropna()\n",
    "fig, ax = plt.subplots()\n",
    "\n",
    "ax.plot(tweets_vol.index,tweets_vol,label='Total Tweets')\n",
    "ax.set_yscale('log')\n",
    "ax.tick_params(axis='y')\n",
    "\n",
    "lines, labels = ax.get_legend_handles_labels()\n",
    "\n",
    "ax.legend(lines, labels, loc=0)\n",
    "plt.title(\"Total Tweets / Date\")\n",
    "\n",
    "plt.show()"
   ],
   "outputs": [],
   "metadata": {}
  },
  {
   "cell_type": "code",
   "execution_count": null,
   "source": [
    "fig, ax = plt.subplots()\n",
    "ax.plot(btc_value_df['Date'],btc_value_df['Open'],label='Bitcoin Value')\n",
    "ax.tick_params(axis='y')\n",
    "\n",
    "lines, labels = ax.get_legend_handles_labels()\n",
    "\n",
    "ax.legend(lines, labels)\n",
    "plt.title(\"Bitcoin Value\")\n",
    "\n",
    "plt.show()"
   ],
   "outputs": [],
   "metadata": {}
  },
  {
   "cell_type": "code",
   "execution_count": null,
   "source": [
    "df_location = twitter_data.groupBy('user_location').count().sort(col(\"count\").desc()).show()"
   ],
   "outputs": [],
   "metadata": {}
  }
 ],
 "metadata": {
  "interpreter": {
   "hash": "916dbcbb3f70747c44a77c7bcd40155683ae19c65e1c03b4aa3499c5328201f1"
  },
  "kernelspec": {
   "name": "python3",
   "display_name": "Python 3.9.5 64-bit"
  },
  "language_info": {
   "codemirror_mode": {
    "name": "ipython",
    "version": 3
   },
   "file_extension": ".py",
   "mimetype": "text/x-python",
   "name": "python",
   "nbconvert_exporter": "python",
   "pygments_lexer": "ipython3",
   "version": "3.9.5"
  }
 },
 "nbformat": 4,
 "nbformat_minor": 2
}