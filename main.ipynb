{
 "cells": [
  {
   "cell_type": "markdown",
   "metadata": {},
   "source": [
    "# Bitcoin & Twitter"
   ]
  },
  {
   "cell_type": "code",
   "execution_count": 1,
   "metadata": {},
   "outputs": [
    {
     "name": "stderr",
     "output_type": "stream",
     "text": [
      "21/11/19 16:59:13 WARN Utils: Your hostname, pop-os resolves to a loopback address: 127.0.1.1; using 192.168.0.4 instead (on interface enx00e04f7105c2)\n",
      "21/11/19 16:59:13 WARN Utils: Set SPARK_LOCAL_IP if you need to bind to another address\n",
      "WARNING: An illegal reflective access operation has occurred\n",
      "WARNING: Illegal reflective access by org.apache.spark.unsafe.Platform (file:/home/lenny/.local/share/miniconda3/envs/data-mining/lib/python3.9/site-packages/pyspark/jars/spark-unsafe_2.12-3.1.2.jar) to constructor java.nio.DirectByteBuffer(long,int)\n",
      "WARNING: Please consider reporting this to the maintainers of org.apache.spark.unsafe.Platform\n",
      "WARNING: Use --illegal-access=warn to enable warnings of further illegal reflective access operations\n",
      "WARNING: All illegal access operations will be denied in a future release\n",
      "21/11/19 16:59:14 WARN NativeCodeLoader: Unable to load native-hadoop library for your platform... using builtin-java classes where applicable\n",
      "Using Spark's default log4j profile: org/apache/spark/log4j-defaults.properties\n",
      "Setting default log level to \"WARN\".\n",
      "To adjust logging level use sc.setLogLevel(newLevel). For SparkR, use setLogLevel(newLevel).\n",
      "21/11/19 16:59:14 WARN Utils: Service 'SparkUI' could not bind on port 4040. Attempting port 4041.\n",
      "21/11/19 16:59:14 WARN Utils: Service 'SparkUI' could not bind on port 4041. Attempting port 4042.\n"
     ]
    }
   ],
   "source": [
    "from pyspark import SparkContext\n",
    "from pyspark.sql.types import *\n",
    "from pyspark.sql import *\n",
    "from pyspark.sql.functions import col, desc, asc, lit\n",
    "from pyspark.sql import functions as F\n",
    "import matplotlib.dates as mdates\n",
    "import matplotlib.pyplot as plt\n",
    "from matplotlib.pyplot import rc\n",
    "import re\n",
    "import yfinance as yf\n",
    "import datetime\n",
    "import folium\n",
    "from geopy.geocoders import Nominatim\n",
    "\n",
    "from pattern.en import sentiment\n",
    "\n",
    "sc = SparkContext(\"local\").getOrCreate()\n",
    "sqlContext = SQLContext(sc)\n",
    "spark = SparkSession(sc)\n",
    "plt.style.use('ggplot')"
   ]
  },
  {
   "cell_type": "markdown",
   "metadata": {
    "collapsed": false
   },
   "source": [
    "## Data Exploration\n",
    "\n",
    "### BITCOIN\n",
    "\n",
    " - Unix Timestamp - Date represented as epoc value\n",
    " - Date - date and time when the data point was collected\n",
    " - Symbol - Symbol of the currency\n",
    " - Open - Open value of the currency\n",
    " - High - Highest value of currency in the given minute\n",
    " - Low - Lowest value of currency in the given minute\n",
    " - Close - Close value of the currency in the given minute\n",
    " - Volume - Volume of the currency transacted in the given minute.\n",
    "\n",
    "### TWITTER\n",
    "\n",
    " - user_name    The name of the user, as they’ve defined it.\n",
    " - user_location    The user-defined location for this account’s profile.\n",
    " - user_description\tThe user-defined UTF-8 string describing their account.\n",
    " - user_created\tTime and date, when the account was created.\n",
    " - user_followers\tThe number of followers an account currently has.\n",
    " - user_friends\tThe number of friends a account currently has.\n",
    " - user_favourites\tThe number of favorites a account currently has\n",
    " - user_verified    When true, indicates that the user has a verified account\n",
    " - date UTC time and date when the Tweet was created\n",
    " - text The actual UTF-8 text of the Tweet\n",
    " - hashtags\tAll the other hashtags posted in the tweet along with #Bitcoin & #btc\n",
    " - source   Utility used to post the Tweet, Tweets from the Twitter website have a source value - web\n",
    " - is_retweet\tIndicates whether this Tweet has been Retweeted by the authenticating user."
   ]
  },
  {
   "cell_type": "code",
   "execution_count": 2,
   "metadata": {},
   "outputs": [],
   "source": [
    "tweets_schema = StructType([\n",
    "    StructField('user_name', StringType(), True),\n",
    "    StructField('user_location', StringType(), True),\n",
    "    StructField('user_description', StringType(), True),\n",
    "    StructField('user_created', StringType(), True),\n",
    "    StructField('user_followers', FloatType(), True),\n",
    "    StructField('user_friends', FloatType(), True),\n",
    "    StructField('user_favourites', FloatType(), True),\n",
    "    StructField('user_verified', BooleanType(), True),\n",
    "    StructField('date', StringType(), True),\n",
    "    StructField('text', StringType(), True),\n",
    "    StructField('hashtags', StringType(), True),\n",
    "    StructField('source', StringType(), True),\n",
    "    StructField('is_retweet', BooleanType(), True),\n",
    "])\n",
    "\n",
    "\n",
    "tweets_df = spark.read.csv(\n",
    "    \"./data/tweets.csv\", \n",
    "    header=True,\n",
    "    sep=',',\n",
    "    multiLine=True,\n",
    "    unescapedQuoteHandling=\"STOP_AT_CLOSING_QUOTE\",\n",
    "    schema=tweets_schema\n",
    ")\n"
   ]
  },
  {
   "cell_type": "code",
   "execution_count": 3,
   "metadata": {},
   "outputs": [
    {
     "name": "stderr",
     "output_type": "stream",
     "text": []
    }
   ],
   "source": [
    "# tweets_df = tweets_df.withColumn(\"date\", datetime.datetime.strptime(str(col('date')), '%Y-%m-%d').strftime('%d/%m/%y')).filter((tweets_df.date > datetime.datetime(2020, 3, 20) )& (tweets_df.date < datetime.datetime(2021,9,10)))\n",
    "tweets_df = tweets_df.withColumn(\"date\", F.to_date(F.col(\"date\"))).filter((tweets_df.date > datetime.datetime(2020, 3, 20) )& (tweets_df.date < datetime.datetime(2021,9,10)))\n",
    "btc_stock=yf.Ticker(\"BTC-USD\")\n",
    "start = tweets_df.agg({\"date\": \"min\"}).collect()[0]\n",
    "end = tweets_df.agg({\"date\": \"max\"}).collect()[0]\n",
    "\n",
    "btc_stock = btc_stock.history(start=start['min(date)'], end=end['max(date)'])\n",
    "btc_df = spark.createDataFrame(btc_stock)\n"
   ]
  },
  {
   "cell_type": "markdown",
   "metadata": {
    "collapsed": false
   },
   "source": [
    "## TWITTER"
   ]
  },
  {
   "cell_type": "code",
   "execution_count": 6,
   "metadata": {},
   "outputs": [
    {
     "name": "stderr",
     "output_type": "stream",
     "text": []
    },
    {
     "data": {
      "image/png": "[encoded data removed]",
      "text/plain": [
       "<Figure size 1152x576 with 1 Axes>"
      ]
     },
     "metadata": {},
     "output_type": "display_data"
    }
   ],
   "source": [
    "rows_count = tweets_df.count()\n",
    "\n",
    "fig, ax = plt.subplots(figsize=(16,8))\n",
    "\n",
    "df_labels = tweets_df.columns\n",
    "width = 0.50  # the width of the bars\n",
    "\n",
    "ax.axhline(y=rows_count, label=\"Total amount of rows\")\n",
    "\n",
    "for i, v in enumerate(df_labels):\n",
    "\tax.bar_label(\n",
    "\t\tax.bar(i, tweets_df.where(col(v).isNull()).count(), width)\n",
    "\t)\n",
    "\n",
    "ax.set_xticks(range(len(df_labels)))\n",
    "ax.set_xticklabels(df_labels)\n",
    "\n",
    "fig.tight_layout()\n",
    "plt.show()"
   ]
  },
  {
   "cell_type": "markdown",
   "metadata": {
    "collapsed": false
   },
   "source": [
    "## Preparing Data    Date|\n",
    "+-------+-------------+"
   ]
  },
  {
   "cell_type": "code",
   "execution_count": null,
   "metadata": {
    "collapsed": false,
    "pycharm": {
     "name": "#%%\n"
    }
   },
   "outputs": [],
   "source": [
    "from pyspark.sql.functions import udf\n",
    "\n",
    "def conv_to_int(val):\n",
    "    if isinstance(val, str):\n",
    "        return 0\n",
    "    else:\n",
    "        return float(val)\n",
    "\n",
    "conv_to_int_udf = udf(lambda x : conv_to_int(x), IntegerType())\n",
    "\n",
    "tweets_df = tweets_df.withColumn(\"user_followers\", conv_to_int_udf(col(\"user_followers\")))\\\n",
    "    .withColumn(\"user_friends\", conv_to_int_udf(col(\"user_friends\")))\\\n",
    "    .withColumn(\"user_favourites\", conv_to_int_udf(col(\"user_favourites\")))"
   ]
  },
  {
   "cell_type": "markdown",
   "metadata": {
    "collapsed": false
   },
   "source": [
    "### Text cleaning"
   ]
  },
  {
   "cell_type": "code",
   "execution_count": null,
   "metadata": {
    "collapsed": false,
    "pycharm": {
     "name": "#%%\n"
    }
   },
   "outputs": [],
   "source": [
    "def clean_text(text):\n",
    "    if(isinstance(text, str)):\n",
    "        text = text.replace(\"#\",\"\")\n",
    "        text = re.sub('\\\\n', '', text)\n",
    "        text = re.sub('https:\\/\\/\\S+', '', text)\n",
    "        return text\n",
    "    else:\n",
    "        return \"\"\n",
    "\n",
    "clean_text_udf = udf(lambda x : clean_text(x), StringType())\n",
    "\n",
    "tweets_df.withColumn(\"text\", clean_text_udf(col(\"text\")))"
   ]
  },
  {
   "cell_type": "markdown",
   "metadata": {
    "collapsed": false
   },
   "source": [
    "### Generating impact score"
   ]
  },
  {
   "cell_type": "code",
   "execution_count": null,
   "metadata": {
    "collapsed": false,
    "pycharm": {
     "name": "#%%\n"
    }
   },
   "outputs": [],
   "source": [
    "from pyspark.sql.functions import struct\n",
    "\n",
    "def generate_impact_score(tweet):\n",
    "    coef_verified = 1.1 if tweet.user_verified else 1\n",
    "    coef_hashtags = 1+(tweet.hashtags_len/20)\n",
    "    return ((tweet.user_followers + (tweet.user_friends/4))*coef_verified*coef_hashtags)/100\n",
    "\n",
    "generate_impact_score_udf = udf(lambda x : generate_impact_score(x), FloatType())\n",
    "\n",
    "tweets_df.withColumn(\"impact_score\", generate_impact_score_udf(struct([tweets_df[x] for x in tweets_df.columns])))"
   ]
  },
  {
   "cell_type": "markdown",
   "metadata": {
    "collapsed": false
   },
   "source": [
    "## Data visualisation"
   ]
  },
  {
   "cell_type": "markdown",
   "metadata": {
    "collapsed": false
   },
   "source": [
    "### Twitter"
   ]
  },
  {
   "cell_type": "markdown",
   "metadata": {
    "collapsed": false
   },
   "source": [
    "### Tweets / user"
   ]
  },
  {
   "cell_type": "code",
   "execution_count": null,
   "metadata": {
    "collapsed": false,
    "pycharm": {
     "name": "#%%\n"
    }
   },
   "outputs": [],
   "source": [
    "%matplotlib inline\n",
    "\n",
    "user_volume = tweets_df.groupby(\"user_name\").count().sort(desc(\"count\"))\n",
    "\n",
    "n = 10\n",
    "x_rows = user_volume.limit(n).select(\"user_name\").collect()\n",
    "x = list(map(lambda r : str(r['user_name']), x_rows))\n",
    "\n",
    "y_rows = user_volume.limit(n).select(\"count\").collect()\n",
    "y = list(map(lambda r : int(r['count']), y_rows))\n",
    "\n",
    "rc('figure', figsize=(25, 15))\n",
    "fig, ax = plt.subplots()\n",
    "ax.plot(x, y,\n",
    "        label='tweets per user')\n",
    "\n",
    "ax.set_xlabel('username')\n",
    "ax.set_ylabel('# tweets')\n",
    "ax.legend()"
   ]
  },
  {
   "cell_type": "markdown",
   "metadata": {
    "collapsed": false
   },
   "source": [
    "### Bitcoin Value"
   ]
  },
  {
   "cell_type": "code",
   "execution_count": null,
   "metadata": {},
   "outputs": [],
   "source": [
    "# df_location = tweets_df.groupBy('user_location').count().sort(col(\"count\").desc()).show()\n",
    "geolocator = Nominatim(user_agent=\"example\")\n",
    "location_df = tweets_df.groupBy('user_location').count().filter(\"count >= 500\").where(\"user_location not in ('Decentralized', 'Moon', '🇦🇺', 'Everywhere', 'Road Warrior', 'Mars', 'Cloud Engineer', 'Planet Earth', 'Earth', 'Blockchain', 'The Blockchain')\").sort(col(\"count\").desc()).dropna().collect()\n",
    "\n",
    "def coords(location_string):\n",
    "    try:\n",
    "        location_obj = geolocator.geocode(location_string).raw\n",
    "        return (location_obj['lat'], location_obj['lon'])\n",
    "    except:\n",
    "        return (20, 20)\n",
    "\n",
    "locations = list(map(lambda r : [r['user_location'], r['count'], coords(r['user_location']) ], location_df)) \n",
    "map_tweets = folium.Map(location=[65,26], zoom_start=4)\n",
    "\n",
    "for location_name, count, location_coords in locations:\n",
    "    folium.Circle(location=location_coords,\n",
    "                  popup = f\"{location_name}: {count}\",\n",
    "                  radius = count*50,\n",
    "                  color=\"crimson\",\n",
    "                  fill_color=\"crimson\",\n",
    "                  tooltip=count).add_to(map_tweets)\n",
    "map_tweets"
   ]
  },
  {
   "cell_type": "code",
   "execution_count": null,
   "metadata": {},
   "outputs": [],
   "source": [
    "date_df = tweets_df.withColumn(\"date\", F.to_date(F.col(\"date\")))\n",
    "date_df = date_df. groupby(\"date\").count().dropna().sort(asc(\"date\")).filter((date_df.date > datetime.datetime(2020, 3, 20) )& (date_df.date < datetime.datetime.today()))\n",
    "date_df.sort(desc(\"date\")).show(1)\n",
    "date_df.sort(asc(\"date\")).show(1)\n",
    "x_rows = date_df.select(\"date\").collect() \n",
    "x = list(map(lambda r : (r['date']), x_rows)) \n",
    "y_rows = date_df.select(\"count\").collect() \n",
    "tweets_y = list(map(lambda r : int(r['count']), y_rows))"
   ]
  },
  {
   "cell_type": "code",
   "execution_count": null,
   "metadata": {},
   "outputs": [],
   "source": [
    "y_rows = btc_df.select(\"Volume\").collect() \n",
    "btc_y = list(map(lambda r : float(r['Volume']), y_rows))"
   ]
  },
  {
   "cell_type": "code",
   "execution_count": null,
   "metadata": {},
   "outputs": [],
   "source": [
    "print(btc_df.select(\"Volume\").count())\n",
    "print(len(tweets_y))"
   ]
  },
  {
   "cell_type": "code",
   "execution_count": null,
   "metadata": {},
   "outputs": [],
   "source": [
    "fig, ax = plt.subplots(figsize=(16,8))\n",
    "ax.plot(x,tweets_y,label='Tweet Volume')\n",
    "ax.set_yscale('log')\n",
    "ax.tick_params(axis='y')\n",
    "lines, labels = ax.get_legend_handles_labels()\n",
    "ax.legend(lines, labels, loc=0)\n",
    "\n",
    "plt.show()"
   ]
  },
  {
   "cell_type": "code",
   "execution_count": null,
   "metadata": {},
   "outputs": [],
   "source": [
    "fig, ax2 = plt.subplots(figsize=(16,8))\n",
    "ax2.plot(btc_y,color='orange',label='Volume')\n",
    "ax2.set_yscale('log')\n",
    "ax2.tick_params(axis='y')\n",
    "\n",
    "lines2, labels2 = ax2.get_legend_handles_labels()\n",
    "ax2.legend(lines2,labels2, loc=0)\n",
    "plt.show()"
   ]
  },
  {
   "cell_type": "code",
   "execution_count": null,
   "metadata": {},
   "outputs": [],
   "source": [
    "tweet_text = tweets_df.select(\"text\").collect()\n",
    "\n",
    "sentiments = [(x.text, *sentiment(x.text)) for x in tweet_text]\n",
    "\n",
    "print(*sentiments[0:30], sep='\\n')"
   ]
  }
 ],
 "metadata": {
  "interpreter": {
   "hash": "916dbcbb3f70747c44a77c7bcd40155683ae19c65e1c03b4aa3499c5328201f1"
  },
  "kernelspec": {
   "display_name": "Python 3.9.5 64-bit",
   "name": "python3"
  },
  "language_info": {
   "codemirror_mode": {
    "name": "ipython",
    "version": 3
   },
   "file_extension": ".py",
   "mimetype": "text/x-python",
   "name": "python",
   "nbconvert_exporter": "python",
   "pygments_lexer": "ipython3",
   "version": "3.9.7"
  }
 },
 "nbformat": 4,
 "nbformat_minor": 2
}
